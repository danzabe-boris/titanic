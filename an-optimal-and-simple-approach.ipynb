{
 "cells": [
  {
   "cell_type": "markdown",
   "id": "a5cda7bd",
   "metadata": {
    "_cell_guid": "b1076dfc-b9ad-4769-8c92-a6c4dae69d19",
    "_uuid": "8f2839f25d086af736a60e9eeb907d3b93b6e0e5",
    "papermill": {
     "duration": 0.008049,
     "end_time": "2022-09-18T19:40:51.076244",
     "exception": false,
     "start_time": "2022-09-18T19:40:51.068195",
     "status": "completed"
    },
    "tags": []
   },
   "source": [
    "## loading of packages"
   ]
  },
  {
   "cell_type": "code",
   "execution_count": 1,
   "id": "8c798de3",
   "metadata": {
    "execution": {
     "iopub.execute_input": "2022-09-18T19:40:51.092595Z",
     "iopub.status.busy": "2022-09-18T19:40:51.091241Z",
     "iopub.status.idle": "2022-09-18T19:40:51.105074Z",
     "shell.execute_reply": "2022-09-18T19:40:51.103704Z"
    },
    "papermill": {
     "duration": 0.02502,
     "end_time": "2022-09-18T19:40:51.108031",
     "exception": false,
     "start_time": "2022-09-18T19:40:51.083011",
     "status": "completed"
    },
    "tags": []
   },
   "outputs": [],
   "source": [
    "import pandas as pd\n",
    "import numpy as np"
   ]
  },
  {
   "cell_type": "markdown",
   "id": "7ffd5201",
   "metadata": {
    "papermill": {
     "duration": 0.00645,
     "end_time": "2022-09-18T19:40:51.121416",
     "exception": false,
     "start_time": "2022-09-18T19:40:51.114966",
     "status": "completed"
    },
    "tags": []
   },
   "source": [
    "**Loading the training database**"
   ]
  },
  {
   "cell_type": "code",
   "execution_count": 2,
   "id": "1b453647",
   "metadata": {
    "execution": {
     "iopub.execute_input": "2022-09-18T19:40:51.136357Z",
     "iopub.status.busy": "2022-09-18T19:40:51.135912Z",
     "iopub.status.idle": "2022-09-18T19:40:51.165820Z",
     "shell.execute_reply": "2022-09-18T19:40:51.164766Z"
    },
    "papermill": {
     "duration": 0.040441,
     "end_time": "2022-09-18T19:40:51.168441",
     "exception": false,
     "start_time": "2022-09-18T19:40:51.128000",
     "status": "completed"
    },
    "tags": []
   },
   "outputs": [],
   "source": [
    "data_train = pd.read_csv(\"../input/titanic/train.csv\", index_col = \"PassengerId\")"
   ]
  },
  {
   "cell_type": "code",
   "execution_count": 3,
   "id": "02833056",
   "metadata": {
    "execution": {
     "iopub.execute_input": "2022-09-18T19:40:51.184532Z",
     "iopub.status.busy": "2022-09-18T19:40:51.184090Z",
     "iopub.status.idle": "2022-09-18T19:40:51.193690Z",
     "shell.execute_reply": "2022-09-18T19:40:51.192417Z"
    },
    "papermill": {
     "duration": 0.021325,
     "end_time": "2022-09-18T19:40:51.197244",
     "exception": false,
     "start_time": "2022-09-18T19:40:51.175919",
     "status": "completed"
    },
    "tags": []
   },
   "outputs": [
    {
     "data": {
      "text/plain": [
       "(891, 11)"
      ]
     },
     "execution_count": 3,
     "metadata": {},
     "output_type": "execute_result"
    }
   ],
   "source": [
    "data_train.shape"
   ]
  },
  {
   "cell_type": "markdown",
   "id": "b7546f7a",
   "metadata": {
    "papermill": {
     "duration": 0.006129,
     "end_time": "2022-09-18T19:40:51.210101",
     "exception": false,
     "start_time": "2022-09-18T19:40:51.203972",
     "status": "completed"
    },
    "tags": []
   },
   "source": [
    "**Visualization of the first 10 rows of the database**"
   ]
  },
  {
   "cell_type": "code",
   "execution_count": 4,
   "id": "e3105457",
   "metadata": {
    "execution": {
     "iopub.execute_input": "2022-09-18T19:40:51.225368Z",
     "iopub.status.busy": "2022-09-18T19:40:51.224929Z",
     "iopub.status.idle": "2022-09-18T19:40:51.245547Z",
     "shell.execute_reply": "2022-09-18T19:40:51.244188Z"
    },
    "papermill": {
     "duration": 0.03156,
     "end_time": "2022-09-18T19:40:51.248095",
     "exception": false,
     "start_time": "2022-09-18T19:40:51.216535",
     "status": "completed"
    },
    "tags": []
   },
   "outputs": [
    {
     "data": {
      "text/html": [
       "<div>\n",
       "<style scoped>\n",
       "    .dataframe tbody tr th:only-of-type {\n",
       "        vertical-align: middle;\n",
       "    }\n",
       "\n",
       "    .dataframe tbody tr th {\n",
       "        vertical-align: top;\n",
       "    }\n",
       "\n",
       "    .dataframe thead th {\n",
       "        text-align: right;\n",
       "    }\n",
       "</style>\n",
       "<table border=\"1\" class=\"dataframe\">\n",
       "  <thead>\n",
       "    <tr style=\"text-align: right;\">\n",
       "      <th></th>\n",
       "      <th>Survived</th>\n",
       "      <th>Pclass</th>\n",
       "      <th>Name</th>\n",
       "      <th>Sex</th>\n",
       "      <th>Age</th>\n",
       "      <th>SibSp</th>\n",
       "      <th>Parch</th>\n",
       "      <th>Ticket</th>\n",
       "      <th>Fare</th>\n",
       "      <th>Cabin</th>\n",
       "      <th>Embarked</th>\n",
       "    </tr>\n",
       "    <tr>\n",
       "      <th>PassengerId</th>\n",
       "      <th></th>\n",
       "      <th></th>\n",
       "      <th></th>\n",
       "      <th></th>\n",
       "      <th></th>\n",
       "      <th></th>\n",
       "      <th></th>\n",
       "      <th></th>\n",
       "      <th></th>\n",
       "      <th></th>\n",
       "      <th></th>\n",
       "    </tr>\n",
       "  </thead>\n",
       "  <tbody>\n",
       "    <tr>\n",
       "      <th>1</th>\n",
       "      <td>0</td>\n",
       "      <td>3</td>\n",
       "      <td>Braund, Mr. Owen Harris</td>\n",
       "      <td>male</td>\n",
       "      <td>22.0</td>\n",
       "      <td>1</td>\n",
       "      <td>0</td>\n",
       "      <td>A/5 21171</td>\n",
       "      <td>7.2500</td>\n",
       "      <td>NaN</td>\n",
       "      <td>S</td>\n",
       "    </tr>\n",
       "    <tr>\n",
       "      <th>2</th>\n",
       "      <td>1</td>\n",
       "      <td>1</td>\n",
       "      <td>Cumings, Mrs. John Bradley (Florence Briggs Th...</td>\n",
       "      <td>female</td>\n",
       "      <td>38.0</td>\n",
       "      <td>1</td>\n",
       "      <td>0</td>\n",
       "      <td>PC 17599</td>\n",
       "      <td>71.2833</td>\n",
       "      <td>C85</td>\n",
       "      <td>C</td>\n",
       "    </tr>\n",
       "    <tr>\n",
       "      <th>3</th>\n",
       "      <td>1</td>\n",
       "      <td>3</td>\n",
       "      <td>Heikkinen, Miss. Laina</td>\n",
       "      <td>female</td>\n",
       "      <td>26.0</td>\n",
       "      <td>0</td>\n",
       "      <td>0</td>\n",
       "      <td>STON/O2. 3101282</td>\n",
       "      <td>7.9250</td>\n",
       "      <td>NaN</td>\n",
       "      <td>S</td>\n",
       "    </tr>\n",
       "    <tr>\n",
       "      <th>4</th>\n",
       "      <td>1</td>\n",
       "      <td>1</td>\n",
       "      <td>Futrelle, Mrs. Jacques Heath (Lily May Peel)</td>\n",
       "      <td>female</td>\n",
       "      <td>35.0</td>\n",
       "      <td>1</td>\n",
       "      <td>0</td>\n",
       "      <td>113803</td>\n",
       "      <td>53.1000</td>\n",
       "      <td>C123</td>\n",
       "      <td>S</td>\n",
       "    </tr>\n",
       "    <tr>\n",
       "      <th>5</th>\n",
       "      <td>0</td>\n",
       "      <td>3</td>\n",
       "      <td>Allen, Mr. William Henry</td>\n",
       "      <td>male</td>\n",
       "      <td>35.0</td>\n",
       "      <td>0</td>\n",
       "      <td>0</td>\n",
       "      <td>373450</td>\n",
       "      <td>8.0500</td>\n",
       "      <td>NaN</td>\n",
       "      <td>S</td>\n",
       "    </tr>\n",
       "  </tbody>\n",
       "</table>\n",
       "</div>"
      ],
      "text/plain": [
       "             Survived  Pclass  \\\n",
       "PassengerId                     \n",
       "1                   0       3   \n",
       "2                   1       1   \n",
       "3                   1       3   \n",
       "4                   1       1   \n",
       "5                   0       3   \n",
       "\n",
       "                                                          Name     Sex   Age  \\\n",
       "PassengerId                                                                    \n",
       "1                                      Braund, Mr. Owen Harris    male  22.0   \n",
       "2            Cumings, Mrs. John Bradley (Florence Briggs Th...  female  38.0   \n",
       "3                                       Heikkinen, Miss. Laina  female  26.0   \n",
       "4                 Futrelle, Mrs. Jacques Heath (Lily May Peel)  female  35.0   \n",
       "5                                     Allen, Mr. William Henry    male  35.0   \n",
       "\n",
       "             SibSp  Parch            Ticket     Fare Cabin Embarked  \n",
       "PassengerId                                                          \n",
       "1                1      0         A/5 21171   7.2500   NaN        S  \n",
       "2                1      0          PC 17599  71.2833   C85        C  \n",
       "3                0      0  STON/O2. 3101282   7.9250   NaN        S  \n",
       "4                1      0            113803  53.1000  C123        S  \n",
       "5                0      0            373450   8.0500   NaN        S  "
      ]
     },
     "execution_count": 4,
     "metadata": {},
     "output_type": "execute_result"
    }
   ],
   "source": [
    "data_train.head()"
   ]
  },
  {
   "cell_type": "markdown",
   "id": "03dbae75",
   "metadata": {
    "papermill": {
     "duration": 0.012417,
     "end_time": "2022-09-18T19:40:51.268749",
     "exception": false,
     "start_time": "2022-09-18T19:40:51.256332",
     "status": "completed"
    },
    "tags": []
   },
   "source": [
    "**Observations of missing values.**"
   ]
  },
  {
   "cell_type": "code",
   "execution_count": 5,
   "id": "ae0f42ec",
   "metadata": {
    "execution": {
     "iopub.execute_input": "2022-09-18T19:40:51.286438Z",
     "iopub.status.busy": "2022-09-18T19:40:51.285514Z",
     "iopub.status.idle": "2022-09-18T19:40:51.299472Z",
     "shell.execute_reply": "2022-09-18T19:40:51.298418Z"
    },
    "papermill": {
     "duration": 0.025909,
     "end_time": "2022-09-18T19:40:51.302310",
     "exception": false,
     "start_time": "2022-09-18T19:40:51.276401",
     "status": "completed"
    },
    "tags": []
   },
   "outputs": [
    {
     "data": {
      "text/plain": [
       "Survived     0.000000\n",
       "Pclass       0.000000\n",
       "Name         0.000000\n",
       "Sex          0.000000\n",
       "Age         19.865320\n",
       "SibSp        0.000000\n",
       "Parch        0.000000\n",
       "Ticket       0.000000\n",
       "Fare         0.000000\n",
       "Cabin       77.104377\n",
       "Embarked     0.224467\n",
       "dtype: float64"
      ]
     },
     "execution_count": 5,
     "metadata": {},
     "output_type": "execute_result"
    }
   ],
   "source": [
    "(data_train.isnull().sum()/data_train.shape[0])*100"
   ]
  },
  {
   "cell_type": "markdown",
   "id": "f85817f7",
   "metadata": {
    "papermill": {
     "duration": 0.012733,
     "end_time": "2022-09-18T19:40:51.322841",
     "exception": false,
     "start_time": "2022-09-18T19:40:51.310108",
     "status": "completed"
    },
    "tags": []
   },
   "source": [
    "__Interpretation:__ We note that the variable *Cabin* poses a problem, we have nearly 80% of the missing values ​​which represents a great lack so we cannot take the trouble to impute this variable, this will bias the results even more.\n",
    "This is what caught our attention."
   ]
  },
  {
   "cell_type": "markdown",
   "id": "a40e7337",
   "metadata": {
    "papermill": {
     "duration": 0.007762,
     "end_time": "2022-09-18T19:40:51.338001",
     "exception": false,
     "start_time": "2022-09-18T19:40:51.330239",
     "status": "completed"
    },
    "tags": []
   },
   "source": [
    "I bother removing the inutes variables IMHO."
   ]
  },
  {
   "cell_type": "code",
   "execution_count": 6,
   "id": "864f97b2",
   "metadata": {
    "execution": {
     "iopub.execute_input": "2022-09-18T19:40:51.355550Z",
     "iopub.status.busy": "2022-09-18T19:40:51.354554Z",
     "iopub.status.idle": "2022-09-18T19:40:51.363736Z",
     "shell.execute_reply": "2022-09-18T19:40:51.362624Z"
    },
    "papermill": {
     "duration": 0.021458,
     "end_time": "2022-09-18T19:40:51.366670",
     "exception": false,
     "start_time": "2022-09-18T19:40:51.345212",
     "status": "completed"
    },
    "tags": []
   },
   "outputs": [],
   "source": [
    "data_train = data_train.drop([\"Cabin\", \"Ticket\", \"Name\"], axis = 1)"
   ]
  },
  {
   "cell_type": "code",
   "execution_count": 7,
   "id": "4bec89b0",
   "metadata": {
    "execution": {
     "iopub.execute_input": "2022-09-18T19:40:51.384727Z",
     "iopub.status.busy": "2022-09-18T19:40:51.384004Z",
     "iopub.status.idle": "2022-09-18T19:40:52.719154Z",
     "shell.execute_reply": "2022-09-18T19:40:52.717987Z"
    },
    "papermill": {
     "duration": 1.347569,
     "end_time": "2022-09-18T19:40:52.722128",
     "exception": false,
     "start_time": "2022-09-18T19:40:51.374559",
     "status": "completed"
    },
    "tags": []
   },
   "outputs": [],
   "source": [
    "from sklearn.ensemble import GradientBoostingClassifier\n",
    "from sklearn.model_selection import train_test_split, KFold"
   ]
  },
  {
   "cell_type": "markdown",
   "id": "c1f97941",
   "metadata": {
    "papermill": {
     "duration": 0.006486,
     "end_time": "2022-09-18T19:40:52.735772",
     "exception": false,
     "start_time": "2022-09-18T19:40:52.729286",
     "status": "completed"
    },
    "tags": []
   },
   "source": [
    "## **Encoding and imputation of missing values**"
   ]
  },
  {
   "cell_type": "code",
   "execution_count": 8,
   "id": "bfd851c5",
   "metadata": {
    "execution": {
     "iopub.execute_input": "2022-09-18T19:40:52.751257Z",
     "iopub.status.busy": "2022-09-18T19:40:52.750819Z",
     "iopub.status.idle": "2022-09-18T19:40:52.964800Z",
     "shell.execute_reply": "2022-09-18T19:40:52.963675Z"
    },
    "papermill": {
     "duration": 0.225111,
     "end_time": "2022-09-18T19:40:52.967634",
     "exception": false,
     "start_time": "2022-09-18T19:40:52.742523",
     "status": "completed"
    },
    "tags": []
   },
   "outputs": [],
   "source": [
    "data_train = data_train.fillna(method = \"bfill\").fillna(0)\n",
    "\n",
    "def encodageSex(df):\n",
    "    if df[\"Sex\"] == 'male':\n",
    "        df[\"Sex\"] = 0\n",
    "        return df\n",
    "    else:\n",
    "        df[\"Sex\"] = 1\n",
    "        return df\n",
    "    \n",
    "def encodageEmbarked(df):\n",
    "    if df[\"Embarked\"] == 'Q':\n",
    "        df[\"Embarked\"] = 0\n",
    "        return df\n",
    "    elif df[\"Embarked\"] == 'C':\n",
    "        df[\"Embarked\"] = 1\n",
    "        return df \n",
    "    else:\n",
    "        df[\"Embarked\"] = 2\n",
    "        return df\n",
    "\n",
    "data_train = data_train.apply(encodageEmbarked, axis=\"columns\")\n",
    "data_train = data_train.apply(encodageSex, axis=\"columns\")"
   ]
  },
  {
   "cell_type": "code",
   "execution_count": 9,
   "id": "e5bb2157",
   "metadata": {
    "execution": {
     "iopub.execute_input": "2022-09-18T19:40:52.983370Z",
     "iopub.status.busy": "2022-09-18T19:40:52.982955Z",
     "iopub.status.idle": "2022-09-18T19:40:52.990156Z",
     "shell.execute_reply": "2022-09-18T19:40:52.989134Z"
    },
    "papermill": {
     "duration": 0.017738,
     "end_time": "2022-09-18T19:40:52.992523",
     "exception": false,
     "start_time": "2022-09-18T19:40:52.974785",
     "status": "completed"
    },
    "tags": []
   },
   "outputs": [],
   "source": [
    "y = data_train['Survived']\n",
    "X = data_train.drop(\"Survived\", axis = 1 )"
   ]
  },
  {
   "cell_type": "code",
   "execution_count": 10,
   "id": "7a68188d",
   "metadata": {
    "execution": {
     "iopub.execute_input": "2022-09-18T19:40:53.007963Z",
     "iopub.status.busy": "2022-09-18T19:40:53.007578Z",
     "iopub.status.idle": "2022-09-18T19:40:53.015277Z",
     "shell.execute_reply": "2022-09-18T19:40:53.014127Z"
    },
    "papermill": {
     "duration": 0.01814,
     "end_time": "2022-09-18T19:40:53.017677",
     "exception": false,
     "start_time": "2022-09-18T19:40:52.999537",
     "status": "completed"
    },
    "tags": []
   },
   "outputs": [],
   "source": [
    "X_train, X_test , y_train, y_test = train_test_split(X, y, test_size = 0.3)"
   ]
  },
  {
   "cell_type": "code",
   "execution_count": 11,
   "id": "b744eb0f",
   "metadata": {
    "execution": {
     "iopub.execute_input": "2022-09-18T19:40:53.033582Z",
     "iopub.status.busy": "2022-09-18T19:40:53.033182Z",
     "iopub.status.idle": "2022-09-18T19:40:53.038808Z",
     "shell.execute_reply": "2022-09-18T19:40:53.037737Z"
    },
    "papermill": {
     "duration": 0.016576,
     "end_time": "2022-09-18T19:40:53.041323",
     "exception": false,
     "start_time": "2022-09-18T19:40:53.024747",
     "status": "completed"
    },
    "tags": []
   },
   "outputs": [],
   "source": [
    "model = GradientBoostingClassifier(n_estimators=400)"
   ]
  },
  {
   "cell_type": "code",
   "execution_count": 12,
   "id": "2147c09f",
   "metadata": {
    "execution": {
     "iopub.execute_input": "2022-09-18T19:40:53.056980Z",
     "iopub.status.busy": "2022-09-18T19:40:53.056565Z",
     "iopub.status.idle": "2022-09-18T19:40:53.475675Z",
     "shell.execute_reply": "2022-09-18T19:40:53.474522Z"
    },
    "papermill": {
     "duration": 0.429694,
     "end_time": "2022-09-18T19:40:53.478077",
     "exception": false,
     "start_time": "2022-09-18T19:40:53.048383",
     "status": "completed"
    },
    "tags": []
   },
   "outputs": [
    {
     "data": {
      "text/plain": [
       "GradientBoostingClassifier(n_estimators=400)"
      ]
     },
     "execution_count": 12,
     "metadata": {},
     "output_type": "execute_result"
    }
   ],
   "source": [
    "model.fit(X_train, y_train)"
   ]
  },
  {
   "cell_type": "code",
   "execution_count": 13,
   "id": "6f2e82b4",
   "metadata": {
    "execution": {
     "iopub.execute_input": "2022-09-18T19:40:53.494341Z",
     "iopub.status.busy": "2022-09-18T19:40:53.493936Z",
     "iopub.status.idle": "2022-09-18T19:40:53.511538Z",
     "shell.execute_reply": "2022-09-18T19:40:53.510183Z"
    },
    "papermill": {
     "duration": 0.028764,
     "end_time": "2022-09-18T19:40:53.514395",
     "exception": false,
     "start_time": "2022-09-18T19:40:53.485631",
     "status": "completed"
    },
    "tags": []
   },
   "outputs": [
    {
     "data": {
      "text/plain": [
       "0.8097014925373134"
      ]
     },
     "execution_count": 13,
     "metadata": {},
     "output_type": "execute_result"
    }
   ],
   "source": [
    "model.score(X_test, y_test)"
   ]
  },
  {
   "cell_type": "markdown",
   "id": "aa5ee7ad",
   "metadata": {
    "papermill": {
     "duration": 0.006835,
     "end_time": "2022-09-18T19:40:53.528667",
     "exception": false,
     "start_time": "2022-09-18T19:40:53.521832",
     "status": "completed"
    },
    "tags": []
   },
   "source": [
    "### **Let's visualize the variables that contribute the most in the predictions**"
   ]
  },
  {
   "cell_type": "code",
   "execution_count": 14,
   "id": "c71d8c70",
   "metadata": {
    "execution": {
     "iopub.execute_input": "2022-09-18T19:40:53.545171Z",
     "iopub.status.busy": "2022-09-18T19:40:53.544493Z",
     "iopub.status.idle": "2022-09-18T19:41:01.089691Z",
     "shell.execute_reply": "2022-09-18T19:41:01.088607Z"
    },
    "papermill": {
     "duration": 7.556648,
     "end_time": "2022-09-18T19:41:01.092618",
     "exception": false,
     "start_time": "2022-09-18T19:40:53.535970",
     "status": "completed"
    },
    "tags": []
   },
   "outputs": [
    {
     "data": {
      "text/html": [
       "<style type='text/css'>\n",
       ".datatable table.frame { margin-bottom: 0; }\n",
       ".datatable table.frame thead { border-bottom: none; }\n",
       ".datatable table.frame tr.coltypes td {  color: #FFFFFF;  line-height: 6px;  padding: 0 0.5em;}\n",
       ".datatable .bool    { background: #DDDD99; }\n",
       ".datatable .object  { background: #565656; }\n",
       ".datatable .int     { background: #5D9E5D; }\n",
       ".datatable .float   { background: #4040CC; }\n",
       ".datatable .str     { background: #CC4040; }\n",
       ".datatable .time    { background: #40CC40; }\n",
       ".datatable .row_index {  background: var(--jp-border-color3);  border-right: 1px solid var(--jp-border-color0);  color: var(--jp-ui-font-color3);  font-size: 9px;}\n",
       ".datatable .frame tbody td { text-align: left; }\n",
       ".datatable .frame tr.coltypes .row_index {  background: var(--jp-border-color0);}\n",
       ".datatable th:nth-child(2) { padding-left: 12px; }\n",
       ".datatable .hellipsis {  color: var(--jp-cell-editor-border-color);}\n",
       ".datatable .vellipsis {  background: var(--jp-layout-color0);  color: var(--jp-cell-editor-border-color);}\n",
       ".datatable .na {  color: var(--jp-cell-editor-border-color);  font-size: 80%;}\n",
       ".datatable .sp {  opacity: 0.25;}\n",
       ".datatable .footer { font-size: 9px; }\n",
       ".datatable .frame_dimensions {  background: var(--jp-border-color3);  border-top: 1px solid var(--jp-border-color0);  color: var(--jp-ui-font-color3);  display: inline-block;  opacity: 0.6;  padding: 1px 10px 1px 5px;}\n",
       "</style>\n"
      ],
      "text/plain": [
       "<IPython.core.display.HTML object>"
      ]
     },
     "metadata": {},
     "output_type": "display_data"
    }
   ],
   "source": [
    "import eli5\n",
    "from eli5.sklearn import PermutationImportance"
   ]
  },
  {
   "cell_type": "code",
   "execution_count": 15,
   "id": "96f4947f",
   "metadata": {
    "execution": {
     "iopub.execute_input": "2022-09-18T19:41:01.110515Z",
     "iopub.status.busy": "2022-09-18T19:41:01.109020Z",
     "iopub.status.idle": "2022-09-18T19:41:01.308059Z",
     "shell.execute_reply": "2022-09-18T19:41:01.306495Z"
    },
    "papermill": {
     "duration": 0.210394,
     "end_time": "2022-09-18T19:41:01.310738",
     "exception": false,
     "start_time": "2022-09-18T19:41:01.100344",
     "status": "completed"
    },
    "tags": []
   },
   "outputs": [
    {
     "data": {
      "text/html": [
       "\n",
       "    <style>\n",
       "    table.eli5-weights tr:hover {\n",
       "        filter: brightness(85%);\n",
       "    }\n",
       "</style>\n",
       "\n",
       "\n",
       "\n",
       "    \n",
       "\n",
       "    \n",
       "\n",
       "    \n",
       "\n",
       "    \n",
       "\n",
       "    \n",
       "\n",
       "    \n",
       "\n",
       "\n",
       "    \n",
       "\n",
       "    \n",
       "\n",
       "    \n",
       "\n",
       "    \n",
       "\n",
       "    \n",
       "\n",
       "    \n",
       "\n",
       "\n",
       "    \n",
       "\n",
       "    \n",
       "\n",
       "    \n",
       "\n",
       "    \n",
       "\n",
       "    \n",
       "        <table class=\"eli5-weights eli5-feature-importances\" style=\"border-collapse: collapse; border: none; margin-top: 0em; table-layout: auto;\">\n",
       "    <thead>\n",
       "    <tr style=\"border: none;\">\n",
       "        <th style=\"padding: 0 1em 0 0.5em; text-align: right; border: none;\">Weight</th>\n",
       "        <th style=\"padding: 0 0.5em 0 0.5em; text-align: left; border: none;\">Feature</th>\n",
       "    </tr>\n",
       "    </thead>\n",
       "    <tbody>\n",
       "    \n",
       "        <tr style=\"background-color: hsl(120, 100.00%, 80.00%); border: none;\">\n",
       "            <td style=\"padding: 0 1em 0 0.5em; text-align: right; border: none;\">\n",
       "                0.1784\n",
       "                \n",
       "                    &plusmn; 0.0393\n",
       "                \n",
       "            </td>\n",
       "            <td style=\"padding: 0 0.5em 0 0.5em; text-align: left; border: none;\">\n",
       "                Sex\n",
       "            </td>\n",
       "        </tr>\n",
       "    \n",
       "        <tr style=\"background-color: hsl(120, 100.00%, 89.06%); border: none;\">\n",
       "            <td style=\"padding: 0 1em 0 0.5em; text-align: right; border: none;\">\n",
       "                0.0754\n",
       "                \n",
       "                    &plusmn; 0.0099\n",
       "                \n",
       "            </td>\n",
       "            <td style=\"padding: 0 0.5em 0 0.5em; text-align: left; border: none;\">\n",
       "                Fare\n",
       "            </td>\n",
       "        </tr>\n",
       "    \n",
       "        <tr style=\"background-color: hsl(120, 100.00%, 89.67%); border: none;\">\n",
       "            <td style=\"padding: 0 1em 0 0.5em; text-align: right; border: none;\">\n",
       "                0.0694\n",
       "                \n",
       "                    &plusmn; 0.0301\n",
       "                \n",
       "            </td>\n",
       "            <td style=\"padding: 0 0.5em 0 0.5em; text-align: left; border: none;\">\n",
       "                Pclass\n",
       "            </td>\n",
       "        </tr>\n",
       "    \n",
       "        <tr style=\"background-color: hsl(120, 100.00%, 96.12%); border: none;\">\n",
       "            <td style=\"padding: 0 1em 0 0.5em; text-align: right; border: none;\">\n",
       "                0.0172\n",
       "                \n",
       "                    &plusmn; 0.0121\n",
       "                \n",
       "            </td>\n",
       "            <td style=\"padding: 0 0.5em 0 0.5em; text-align: left; border: none;\">\n",
       "                SibSp\n",
       "            </td>\n",
       "        </tr>\n",
       "    \n",
       "        <tr style=\"background-color: hsl(120, 100.00%, 96.99%); border: none;\">\n",
       "            <td style=\"padding: 0 1em 0 0.5em; text-align: right; border: none;\">\n",
       "                0.0119\n",
       "                \n",
       "                    &plusmn; 0.0173\n",
       "                \n",
       "            </td>\n",
       "            <td style=\"padding: 0 0.5em 0 0.5em; text-align: left; border: none;\">\n",
       "                Age\n",
       "            </td>\n",
       "        </tr>\n",
       "    \n",
       "        <tr style=\"background-color: hsl(120, 100.00%, 97.83%); border: none;\">\n",
       "            <td style=\"padding: 0 1em 0 0.5em; text-align: right; border: none;\">\n",
       "                0.0075\n",
       "                \n",
       "                    &plusmn; 0.0142\n",
       "                \n",
       "            </td>\n",
       "            <td style=\"padding: 0 0.5em 0 0.5em; text-align: left; border: none;\">\n",
       "                Embarked\n",
       "            </td>\n",
       "        </tr>\n",
       "    \n",
       "        <tr style=\"background-color: hsl(0, 100.00%, 97.12%); border: none;\">\n",
       "            <td style=\"padding: 0 1em 0 0.5em; text-align: right; border: none;\">\n",
       "                -0.0112\n",
       "                \n",
       "                    &plusmn; 0.0125\n",
       "                \n",
       "            </td>\n",
       "            <td style=\"padding: 0 0.5em 0 0.5em; text-align: left; border: none;\">\n",
       "                Parch\n",
       "            </td>\n",
       "        </tr>\n",
       "    \n",
       "    \n",
       "    </tbody>\n",
       "</table>\n",
       "    \n",
       "\n",
       "    \n",
       "\n",
       "\n",
       "    \n",
       "\n",
       "    \n",
       "\n",
       "    \n",
       "\n",
       "    \n",
       "\n",
       "    \n",
       "\n",
       "    \n",
       "\n",
       "\n",
       "\n"
      ],
      "text/plain": [
       "<IPython.core.display.HTML object>"
      ]
     },
     "execution_count": 15,
     "metadata": {},
     "output_type": "execute_result"
    }
   ],
   "source": [
    "perm = PermutationImportance( model, random_state = 123 ).fit(X_test, y_test)\n",
    "eli5.show_weights(perm, feature_names = X_test.columns.tolist())"
   ]
  },
  {
   "cell_type": "markdown",
   "id": "482be57a",
   "metadata": {
    "papermill": {
     "duration": 0.007706,
     "end_time": "2022-09-18T19:41:01.326481",
     "exception": false,
     "start_time": "2022-09-18T19:41:01.318775",
     "status": "completed"
    },
    "tags": []
   },
   "source": [
    "__Interpretation__ : We find that the variables that contribute the most in the predictions are the following:\n",
    " **Age**, **Pclass**, **Fare**, **SibSp** and **Embarked**."
   ]
  },
  {
   "cell_type": "markdown",
   "id": "2ab27a92",
   "metadata": {
    "papermill": {
     "duration": 0.007477,
     "end_time": "2022-09-18T19:41:01.341811",
     "exception": false,
     "start_time": "2022-09-18T19:41:01.334334",
     "status": "completed"
    },
    "tags": []
   },
   "source": [
    "### **Normalize database**"
   ]
  },
  {
   "cell_type": "markdown",
   "id": "f3b555f0",
   "metadata": {
    "papermill": {
     "duration": 0.00824,
     "end_time": "2022-09-18T19:41:01.357998",
     "exception": false,
     "start_time": "2022-09-18T19:41:01.349758",
     "status": "completed"
    },
    "tags": []
   },
   "source": [
    "We will try to normalize **(X-mean(Xi))/std(Xi)** the data to see if this is a score improvement."
   ]
  },
  {
   "cell_type": "code",
   "execution_count": 16,
   "id": "c4549e04",
   "metadata": {
    "execution": {
     "iopub.execute_input": "2022-09-18T19:41:01.375678Z",
     "iopub.status.busy": "2022-09-18T19:41:01.374715Z",
     "iopub.status.idle": "2022-09-18T19:41:01.387405Z",
     "shell.execute_reply": "2022-09-18T19:41:01.385917Z"
    },
    "papermill": {
     "duration": 0.024482,
     "end_time": "2022-09-18T19:41:01.390108",
     "exception": false,
     "start_time": "2022-09-18T19:41:01.365626",
     "status": "completed"
    },
    "tags": []
   },
   "outputs": [],
   "source": [
    "from sklearn.preprocessing import StandardScaler\n",
    "\n",
    "transformer = StandardScaler()\n",
    "\n",
    "X_train = transformer.fit_transform(X_train)\n",
    "X_test = transformer.transform(X_test)"
   ]
  },
  {
   "cell_type": "code",
   "execution_count": 17,
   "id": "cd5044b9",
   "metadata": {
    "execution": {
     "iopub.execute_input": "2022-09-18T19:41:01.408886Z",
     "iopub.status.busy": "2022-09-18T19:41:01.408487Z",
     "iopub.status.idle": "2022-09-18T19:41:01.846882Z",
     "shell.execute_reply": "2022-09-18T19:41:01.845318Z"
    },
    "papermill": {
     "duration": 0.450854,
     "end_time": "2022-09-18T19:41:01.849695",
     "exception": false,
     "start_time": "2022-09-18T19:41:01.398841",
     "status": "completed"
    },
    "tags": []
   },
   "outputs": [
    {
     "data": {
      "text/plain": [
       "GradientBoostingClassifier(n_estimators=400)"
      ]
     },
     "execution_count": 17,
     "metadata": {},
     "output_type": "execute_result"
    }
   ],
   "source": [
    "model_1 = GradientBoostingClassifier(n_estimators=400)\n",
    "model_1.fit(X_train, y_train)"
   ]
  },
  {
   "cell_type": "code",
   "execution_count": 18,
   "id": "5d2f5159",
   "metadata": {
    "execution": {
     "iopub.execute_input": "2022-09-18T19:41:01.869115Z",
     "iopub.status.busy": "2022-09-18T19:41:01.868716Z",
     "iopub.status.idle": "2022-09-18T19:41:01.880737Z",
     "shell.execute_reply": "2022-09-18T19:41:01.879548Z"
    },
    "papermill": {
     "duration": 0.02477,
     "end_time": "2022-09-18T19:41:01.883461",
     "exception": false,
     "start_time": "2022-09-18T19:41:01.858691",
     "status": "completed"
    },
    "tags": []
   },
   "outputs": [
    {
     "data": {
      "text/plain": [
       "0.8097014925373134"
      ]
     },
     "execution_count": 18,
     "metadata": {},
     "output_type": "execute_result"
    }
   ],
   "source": [
    "model_1.score(X_test, y_test)"
   ]
  },
  {
   "cell_type": "markdown",
   "id": "3cf1720b",
   "metadata": {
    "papermill": {
     "duration": 0.008477,
     "end_time": "2022-09-18T19:41:01.901087",
     "exception": false,
     "start_time": "2022-09-18T19:41:01.892610",
     "status": "completed"
    },
    "tags": []
   },
   "source": [
    "__Conclusion__ : This represents an improvement in the score with the formalization"
   ]
  }
 ],
 "metadata": {
  "kernelspec": {
   "display_name": "Python 3",
   "language": "python",
   "name": "python3"
  },
  "language_info": {
   "codemirror_mode": {
    "name": "ipython",
    "version": 3
   },
   "file_extension": ".py",
   "mimetype": "text/x-python",
   "name": "python",
   "nbconvert_exporter": "python",
   "pygments_lexer": "ipython3",
   "version": "3.7.12"
  },
  "papermill": {
   "default_parameters": {},
   "duration": 23.40962,
   "end_time": "2022-09-18T19:41:04.880010",
   "environment_variables": {},
   "exception": null,
   "input_path": "__notebook__.ipynb",
   "output_path": "__notebook__.ipynb",
   "parameters": {},
   "start_time": "2022-09-18T19:40:41.470390",
   "version": "2.3.4"
  }
 },
 "nbformat": 4,
 "nbformat_minor": 5
}
