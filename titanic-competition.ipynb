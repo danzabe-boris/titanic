{
 "cells": [
  {
   "cell_type": "markdown",
   "id": "e26e2f0e",
   "metadata": {
    "papermill": {
     "duration": 0.011906,
     "end_time": "2022-09-07T13:25:44.474604",
     "exception": false,
     "start_time": "2022-09-07T13:25:44.462698",
     "status": "completed"
    },
    "tags": []
   },
   "source": [
    "# **Titanic database analysis**"
   ]
  },
  {
   "cell_type": "markdown",
   "id": "8f989084",
   "metadata": {
    "papermill": {
     "duration": 0.009917,
     "end_time": "2022-09-07T13:25:44.494928",
     "exception": false,
     "start_time": "2022-09-07T13:25:44.485011",
     "status": "completed"
    },
    "tags": []
   },
   "source": [
    "**Our objective** in analyzing this database is to predict whether a passenger would have survived the sinking of the *titanic*\n",
    "With a **metric** of 80%."
   ]
  },
  {
   "cell_type": "markdown",
   "id": "3f80458c",
   "metadata": {
    "papermill": {
     "duration": 0.010367,
     "end_time": "2022-09-07T13:25:44.516524",
     "exception": false,
     "start_time": "2022-09-07T13:25:44.506157",
     "status": "completed"
    },
    "tags": []
   },
   "source": [
    "## **Exploratory analysis of the titanic database**"
   ]
  },
  {
   "cell_type": "code",
   "execution_count": 1,
   "id": "73710ebb",
   "metadata": {
    "execution": {
     "iopub.execute_input": "2022-09-07T13:25:44.544771Z",
     "iopub.status.busy": "2022-09-07T13:25:44.543405Z",
     "iopub.status.idle": "2022-09-07T13:25:45.738756Z",
     "shell.execute_reply": "2022-09-07T13:25:45.737561Z"
    },
    "papermill": {
     "duration": 1.210436,
     "end_time": "2022-09-07T13:25:45.741739",
     "exception": false,
     "start_time": "2022-09-07T13:25:44.531303",
     "status": "completed"
    },
    "tags": []
   },
   "outputs": [],
   "source": [
    "import numpy as np\n",
    "import pandas as pd \n",
    "import seaborn as sns\n",
    "import matplotlib.pyplot as plt"
   ]
  },
  {
   "cell_type": "markdown",
   "id": "40c0708b",
   "metadata": {
    "papermill": {
     "duration": 0.010928,
     "end_time": "2022-09-07T13:25:45.762923",
     "exception": false,
     "start_time": "2022-09-07T13:25:45.751995",
     "status": "completed"
    },
    "tags": []
   },
   "source": [
    "### **Loading packages**"
   ]
  },
  {
   "cell_type": "code",
   "execution_count": 2,
   "id": "e8825a25",
   "metadata": {
    "execution": {
     "iopub.execute_input": "2022-09-07T13:25:45.788093Z",
     "iopub.status.busy": "2022-09-07T13:25:45.786085Z",
     "iopub.status.idle": "2022-09-07T13:25:45.817497Z",
     "shell.execute_reply": "2022-09-07T13:25:45.816039Z"
    },
    "papermill": {
     "duration": 0.047066,
     "end_time": "2022-09-07T13:25:45.820764",
     "exception": false,
     "start_time": "2022-09-07T13:25:45.773698",
     "status": "completed"
    },
    "tags": []
   },
   "outputs": [],
   "source": [
    "data = pd.read_csv(\"../input/titanic/train.csv\", index_col = \"PassengerId\")"
   ]
  },
  {
   "cell_type": "markdown",
   "id": "c9c77c23",
   "metadata": {
    "papermill": {
     "duration": 0.01064,
     "end_time": "2022-09-07T13:25:45.842420",
     "exception": false,
     "start_time": "2022-09-07T13:25:45.831780",
     "status": "completed"
    },
    "tags": []
   },
   "source": [
    "### **Database Description**"
   ]
  },
  {
   "cell_type": "code",
   "execution_count": 3,
   "id": "edeafd87",
   "metadata": {
    "execution": {
     "iopub.execute_input": "2022-09-07T13:25:45.865396Z",
     "iopub.status.busy": "2022-09-07T13:25:45.864501Z",
     "iopub.status.idle": "2022-09-07T13:25:45.892562Z",
     "shell.execute_reply": "2022-09-07T13:25:45.890939Z"
    },
    "papermill": {
     "duration": 0.042475,
     "end_time": "2022-09-07T13:25:45.895460",
     "exception": false,
     "start_time": "2022-09-07T13:25:45.852985",
     "status": "completed"
    },
    "tags": []
   },
   "outputs": [
    {
     "data": {
      "text/html": [
       "<div>\n",
       "<style scoped>\n",
       "    .dataframe tbody tr th:only-of-type {\n",
       "        vertical-align: middle;\n",
       "    }\n",
       "\n",
       "    .dataframe tbody tr th {\n",
       "        vertical-align: top;\n",
       "    }\n",
       "\n",
       "    .dataframe thead th {\n",
       "        text-align: right;\n",
       "    }\n",
       "</style>\n",
       "<table border=\"1\" class=\"dataframe\">\n",
       "  <thead>\n",
       "    <tr style=\"text-align: right;\">\n",
       "      <th></th>\n",
       "      <th>Survived</th>\n",
       "      <th>Pclass</th>\n",
       "      <th>Name</th>\n",
       "      <th>Sex</th>\n",
       "      <th>Age</th>\n",
       "      <th>SibSp</th>\n",
       "      <th>Parch</th>\n",
       "      <th>Ticket</th>\n",
       "      <th>Fare</th>\n",
       "      <th>Cabin</th>\n",
       "      <th>Embarked</th>\n",
       "    </tr>\n",
       "    <tr>\n",
       "      <th>PassengerId</th>\n",
       "      <th></th>\n",
       "      <th></th>\n",
       "      <th></th>\n",
       "      <th></th>\n",
       "      <th></th>\n",
       "      <th></th>\n",
       "      <th></th>\n",
       "      <th></th>\n",
       "      <th></th>\n",
       "      <th></th>\n",
       "      <th></th>\n",
       "    </tr>\n",
       "  </thead>\n",
       "  <tbody>\n",
       "    <tr>\n",
       "      <th>1</th>\n",
       "      <td>0</td>\n",
       "      <td>3</td>\n",
       "      <td>Braund, Mr. Owen Harris</td>\n",
       "      <td>male</td>\n",
       "      <td>22.0</td>\n",
       "      <td>1</td>\n",
       "      <td>0</td>\n",
       "      <td>A/5 21171</td>\n",
       "      <td>7.2500</td>\n",
       "      <td>NaN</td>\n",
       "      <td>S</td>\n",
       "    </tr>\n",
       "    <tr>\n",
       "      <th>2</th>\n",
       "      <td>1</td>\n",
       "      <td>1</td>\n",
       "      <td>Cumings, Mrs. John Bradley (Florence Briggs Th...</td>\n",
       "      <td>female</td>\n",
       "      <td>38.0</td>\n",
       "      <td>1</td>\n",
       "      <td>0</td>\n",
       "      <td>PC 17599</td>\n",
       "      <td>71.2833</td>\n",
       "      <td>C85</td>\n",
       "      <td>C</td>\n",
       "    </tr>\n",
       "    <tr>\n",
       "      <th>3</th>\n",
       "      <td>1</td>\n",
       "      <td>3</td>\n",
       "      <td>Heikkinen, Miss. Laina</td>\n",
       "      <td>female</td>\n",
       "      <td>26.0</td>\n",
       "      <td>0</td>\n",
       "      <td>0</td>\n",
       "      <td>STON/O2. 3101282</td>\n",
       "      <td>7.9250</td>\n",
       "      <td>NaN</td>\n",
       "      <td>S</td>\n",
       "    </tr>\n",
       "    <tr>\n",
       "      <th>4</th>\n",
       "      <td>1</td>\n",
       "      <td>1</td>\n",
       "      <td>Futrelle, Mrs. Jacques Heath (Lily May Peel)</td>\n",
       "      <td>female</td>\n",
       "      <td>35.0</td>\n",
       "      <td>1</td>\n",
       "      <td>0</td>\n",
       "      <td>113803</td>\n",
       "      <td>53.1000</td>\n",
       "      <td>C123</td>\n",
       "      <td>S</td>\n",
       "    </tr>\n",
       "    <tr>\n",
       "      <th>5</th>\n",
       "      <td>0</td>\n",
       "      <td>3</td>\n",
       "      <td>Allen, Mr. William Henry</td>\n",
       "      <td>male</td>\n",
       "      <td>35.0</td>\n",
       "      <td>0</td>\n",
       "      <td>0</td>\n",
       "      <td>373450</td>\n",
       "      <td>8.0500</td>\n",
       "      <td>NaN</td>\n",
       "      <td>S</td>\n",
       "    </tr>\n",
       "  </tbody>\n",
       "</table>\n",
       "</div>"
      ],
      "text/plain": [
       "             Survived  Pclass  \\\n",
       "PassengerId                     \n",
       "1                   0       3   \n",
       "2                   1       1   \n",
       "3                   1       3   \n",
       "4                   1       1   \n",
       "5                   0       3   \n",
       "\n",
       "                                                          Name     Sex   Age  \\\n",
       "PassengerId                                                                    \n",
       "1                                      Braund, Mr. Owen Harris    male  22.0   \n",
       "2            Cumings, Mrs. John Bradley (Florence Briggs Th...  female  38.0   \n",
       "3                                       Heikkinen, Miss. Laina  female  26.0   \n",
       "4                 Futrelle, Mrs. Jacques Heath (Lily May Peel)  female  35.0   \n",
       "5                                     Allen, Mr. William Henry    male  35.0   \n",
       "\n",
       "             SibSp  Parch            Ticket     Fare Cabin Embarked  \n",
       "PassengerId                                                          \n",
       "1                1      0         A/5 21171   7.2500   NaN        S  \n",
       "2                1      0          PC 17599  71.2833   C85        C  \n",
       "3                0      0  STON/O2. 3101282   7.9250   NaN        S  \n",
       "4                1      0            113803  53.1000  C123        S  \n",
       "5                0      0            373450   8.0500   NaN        S  "
      ]
     },
     "execution_count": 3,
     "metadata": {},
     "output_type": "execute_result"
    }
   ],
   "source": [
    "data.head()"
   ]
  },
  {
   "cell_type": "code",
   "execution_count": 4,
   "id": "2aab5b98",
   "metadata": {
    "execution": {
     "iopub.execute_input": "2022-09-07T13:25:45.919033Z",
     "iopub.status.busy": "2022-09-07T13:25:45.918576Z",
     "iopub.status.idle": "2022-09-07T13:25:45.927583Z",
     "shell.execute_reply": "2022-09-07T13:25:45.926371Z"
    },
    "papermill": {
     "duration": 0.024047,
     "end_time": "2022-09-07T13:25:45.930233",
     "exception": false,
     "start_time": "2022-09-07T13:25:45.906186",
     "status": "completed"
    },
    "tags": []
   },
   "outputs": [
    {
     "data": {
      "text/plain": [
       "(891, 11)"
      ]
     },
     "execution_count": 4,
     "metadata": {},
     "output_type": "execute_result"
    }
   ],
   "source": [
    "data.shape"
   ]
  },
  {
   "cell_type": "markdown",
   "id": "250ae444",
   "metadata": {
    "papermill": {
     "duration": 0.011435,
     "end_time": "2022-09-07T13:25:45.953474",
     "exception": false,
     "start_time": "2022-09-07T13:25:45.942039",
     "status": "completed"
    },
    "tags": []
   },
   "source": [
    "Our database has 891 observations and 11 variables."
   ]
  },
  {
   "cell_type": "markdown",
   "id": "30f3fbf9",
   "metadata": {
    "papermill": {
     "duration": 0.010503,
     "end_time": "2022-09-07T13:25:45.975145",
     "exception": false,
     "start_time": "2022-09-07T13:25:45.964642",
     "status": "completed"
    },
    "tags": []
   },
   "source": [
    "* survival Survival 0 = No, 1 = Yes\n",
    "* pclass ticket classes 1=1st, 2=2nd, 3=3rd\n",
    "* sex Sex\n",
    "* Age Age in years\n",
    "* sibsp of siblings/spouses on board the Titanic\n",
    "* parch of parents/children on board the Titanic\n",
    "* ticket Ticket number\n",
    "* fare Passenger fare\n",
    "* cabin Cabin number\n",
    "* embarked Embarkation Port C = Cherbourg, Q = Queenstown, S = Southampton"
   ]
  },
  {
   "cell_type": "markdown",
   "id": "f5b0ab4c",
   "metadata": {
    "papermill": {
     "duration": 0.011981,
     "end_time": "2022-09-07T13:25:45.997877",
     "exception": false,
     "start_time": "2022-09-07T13:25:45.985896",
     "status": "completed"
    },
    "tags": []
   },
   "source": [
    "**Notes**: Variables such as **Names**, and **ticket**, cannot be important parameters in predicting individuals who survived the titanic disaster. it will be better to simply delete them in the database."
   ]
  },
  {
   "cell_type": "code",
   "execution_count": 5,
   "id": "e4517c3e",
   "metadata": {
    "execution": {
     "iopub.execute_input": "2022-09-07T13:25:46.023445Z",
     "iopub.status.busy": "2022-09-07T13:25:46.022507Z",
     "iopub.status.idle": "2022-09-07T13:25:46.029843Z",
     "shell.execute_reply": "2022-09-07T13:25:46.028855Z"
    },
    "papermill": {
     "duration": 0.023972,
     "end_time": "2022-09-07T13:25:46.033805",
     "exception": false,
     "start_time": "2022-09-07T13:25:46.009833",
     "status": "completed"
    },
    "tags": []
   },
   "outputs": [],
   "source": [
    "data = data.drop([\"Name\", \"Ticket\"], axis = 1)"
   ]
  },
  {
   "cell_type": "markdown",
   "id": "725e4182",
   "metadata": {
    "papermill": {
     "duration": 0.013346,
     "end_time": "2022-09-07T13:25:46.059069",
     "exception": false,
     "start_time": "2022-09-07T13:25:46.045723",
     "status": "completed"
    },
    "tags": []
   },
   "source": [
    "__We take the trouble to convert disguised qualitative variables into qualitative__\n",
    "In particular the variables **Survived, Pclass, Sibsp, and Parch**"
   ]
  },
  {
   "cell_type": "code",
   "execution_count": 6,
   "id": "db3b1382",
   "metadata": {
    "execution": {
     "iopub.execute_input": "2022-09-07T13:25:46.088457Z",
     "iopub.status.busy": "2022-09-07T13:25:46.087602Z",
     "iopub.status.idle": "2022-09-07T13:25:46.099715Z",
     "shell.execute_reply": "2022-09-07T13:25:46.098558Z"
    },
    "papermill": {
     "duration": 0.028636,
     "end_time": "2022-09-07T13:25:46.102463",
     "exception": false,
     "start_time": "2022-09-07T13:25:46.073827",
     "status": "completed"
    },
    "tags": []
   },
   "outputs": [],
   "source": [
    "data.Survived = data.Survived.astype(\"object\")\n",
    "data.Pclass = data.Pclass.astype(\"object\")\n",
    "data.SibSp = data.SibSp.astype(\"object\")\n",
    "data.Parch = data.Parch.astype(\"object\")"
   ]
  },
  {
   "cell_type": "markdown",
   "id": "3114fdc1",
   "metadata": {
    "papermill": {
     "duration": 0.010825,
     "end_time": "2022-09-07T13:25:46.124759",
     "exception": false,
     "start_time": "2022-09-07T13:25:46.113934",
     "status": "completed"
    },
    "tags": []
   },
   "source": [
    "**Target variable**: our variable to predict here is: *Survived*"
   ]
  },
  {
   "cell_type": "code",
   "execution_count": 7,
   "id": "93cb74a8",
   "metadata": {
    "execution": {
     "iopub.execute_input": "2022-09-07T13:25:46.148401Z",
     "iopub.status.busy": "2022-09-07T13:25:46.147763Z",
     "iopub.status.idle": "2022-09-07T13:25:46.162364Z",
     "shell.execute_reply": "2022-09-07T13:25:46.161248Z"
    },
    "papermill": {
     "duration": 0.029358,
     "end_time": "2022-09-07T13:25:46.165050",
     "exception": false,
     "start_time": "2022-09-07T13:25:46.135692",
     "status": "completed"
    },
    "tags": []
   },
   "outputs": [
    {
     "data": {
      "text/plain": [
       "Cabin       77.104377\n",
       "Age         19.865320\n",
       "Embarked     0.224467\n",
       "Survived     0.000000\n",
       "Pclass       0.000000\n",
       "Sex          0.000000\n",
       "SibSp        0.000000\n",
       "Parch        0.000000\n",
       "Fare         0.000000\n",
       "dtype: float64"
      ]
     },
     "execution_count": 7,
     "metadata": {},
     "output_type": "execute_result"
    }
   ],
   "source": [
    "missing_values_columns = ((data.isnull().sum()/data.shape[0])*100).sort_values(ascending=False)\n",
    "missing_values_columns"
   ]
  },
  {
   "cell_type": "code",
   "execution_count": 8,
   "id": "0a4faf2d",
   "metadata": {
    "execution": {
     "iopub.execute_input": "2022-09-07T13:25:46.192896Z",
     "iopub.status.busy": "2022-09-07T13:25:46.192090Z",
     "iopub.status.idle": "2022-09-07T13:25:46.198290Z",
     "shell.execute_reply": "2022-09-07T13:25:46.197293Z"
    },
    "papermill": {
     "duration": 0.023093,
     "end_time": "2022-09-07T13:25:46.200665",
     "exception": false,
     "start_time": "2022-09-07T13:25:46.177572",
     "status": "completed"
    },
    "tags": []
   },
   "outputs": [],
   "source": [
    "pourcent_missing_values = (missing_values_columns.sum()/np.product(data.shape))*100"
   ]
  },
  {
   "cell_type": "code",
   "execution_count": 9,
   "id": "758e025b",
   "metadata": {
    "execution": {
     "iopub.execute_input": "2022-09-07T13:25:46.227409Z",
     "iopub.status.busy": "2022-09-07T13:25:46.226580Z",
     "iopub.status.idle": "2022-09-07T13:25:46.234702Z",
     "shell.execute_reply": "2022-09-07T13:25:46.233358Z"
    },
    "papermill": {
     "duration": 0.024626,
     "end_time": "2022-09-07T13:25:46.238342",
     "exception": false,
     "start_time": "2022-09-07T13:25:46.213716",
     "status": "completed"
    },
    "tags": []
   },
   "outputs": [
    {
     "data": {
      "text/plain": [
       "1.212048433231457"
      ]
     },
     "execution_count": 9,
     "metadata": {},
     "output_type": "execute_result"
    }
   ],
   "source": [
    "pourcent_missing_values"
   ]
  },
  {
   "cell_type": "markdown",
   "id": "feb68dbb",
   "metadata": {
    "papermill": {
     "duration": 0.012742,
     "end_time": "2022-09-07T13:25:46.263735",
     "exception": false,
     "start_time": "2022-09-07T13:25:46.250993",
     "status": "completed"
    },
    "tags": []
   },
   "source": [
    "__Interpretation__: We have almost 1% of missing values ​​in the database, the variable **cabin** and **age** as for them, they have respectively 78% and 20% of missing values.\n",
    "The variable **cabin** has a lot of their missing and does not bring much information in the database"
   ]
  },
  {
   "cell_type": "code",
   "execution_count": 10,
   "id": "374ca605",
   "metadata": {
    "execution": {
     "iopub.execute_input": "2022-09-07T13:25:46.290370Z",
     "iopub.status.busy": "2022-09-07T13:25:46.289547Z",
     "iopub.status.idle": "2022-09-07T13:25:46.299982Z",
     "shell.execute_reply": "2022-09-07T13:25:46.298720Z"
    },
    "papermill": {
     "duration": 0.02711,
     "end_time": "2022-09-07T13:25:46.302628",
     "exception": false,
     "start_time": "2022-09-07T13:25:46.275518",
     "status": "completed"
    },
    "tags": []
   },
   "outputs": [],
   "source": [
    "data = data.drop(\"Cabin\", axis = 1)"
   ]
  },
  {
   "cell_type": "markdown",
   "id": "27479ef7",
   "metadata": {
    "papermill": {
     "duration": 0.01278,
     "end_time": "2022-09-07T13:25:46.327664",
     "exception": false,
     "start_time": "2022-09-07T13:25:46.314884",
     "status": "completed"
    },
    "tags": []
   },
   "source": [
    "### **Fund Analysis**"
   ]
  },
  {
   "cell_type": "markdown",
   "id": "58f9ccb2",
   "metadata": {
    "papermill": {
     "duration": 0.012973,
     "end_time": "2022-09-07T13:25:46.353081",
     "exception": false,
     "start_time": "2022-09-07T13:25:46.340108",
     "status": "completed"
    },
    "tags": []
   },
   "source": [
    "#### **Visualization of the target variable**"
   ]
  },
  {
   "cell_type": "code",
   "execution_count": 11,
   "id": "59f8f35f",
   "metadata": {
    "execution": {
     "iopub.execute_input": "2022-09-07T13:25:46.377602Z",
     "iopub.status.busy": "2022-09-07T13:25:46.377111Z",
     "iopub.status.idle": "2022-09-07T13:25:46.389222Z",
     "shell.execute_reply": "2022-09-07T13:25:46.388024Z"
    },
    "papermill": {
     "duration": 0.027828,
     "end_time": "2022-09-07T13:25:46.392300",
     "exception": false,
     "start_time": "2022-09-07T13:25:46.364472",
     "status": "completed"
    },
    "tags": []
   },
   "outputs": [
    {
     "data": {
      "text/plain": [
       "0    549\n",
       "1    342\n",
       "Name: Survived, dtype: int64"
      ]
     },
     "execution_count": 11,
     "metadata": {},
     "output_type": "execute_result"
    }
   ],
   "source": [
    "survived = data.Survived.value_counts()\n",
    "survived"
   ]
  },
  {
   "cell_type": "markdown",
   "id": "2fdf7b6e",
   "metadata": {
    "papermill": {
     "duration": 0.011098,
     "end_time": "2022-09-07T13:25:46.415065",
     "exception": false,
     "start_time": "2022-09-07T13:25:46.403967",
     "status": "completed"
    },
    "tags": []
   },
   "source": [
    "__INTERPRETATION__: The variable target **Survived** at 62% of people who did not survive and 38% of people who survived"
   ]
  },
  {
   "cell_type": "code",
   "execution_count": 12,
   "id": "59d17806",
   "metadata": {
    "execution": {
     "iopub.execute_input": "2022-09-07T13:25:46.442658Z",
     "iopub.status.busy": "2022-09-07T13:25:46.441845Z",
     "iopub.status.idle": "2022-09-07T13:25:46.707572Z",
     "shell.execute_reply": "2022-09-07T13:25:46.705607Z"
    },
    "papermill": {
     "duration": 0.283846,
     "end_time": "2022-09-07T13:25:46.711863",
     "exception": false,
     "start_time": "2022-09-07T13:25:46.428017",
     "status": "completed"
    },
    "tags": []
   },
   "outputs": [
    {
     "data": {
      "text/plain": [
       "<AxesSubplot:xlabel='Survived', ylabel='Count'>"
      ]
     },
     "execution_count": 12,
     "metadata": {},
     "output_type": "execute_result"
    },
    {
     "data": {
      "image/png": "[encoded data removed]",
      "text/plain": [
       "<Figure size 432x288 with 1 Axes>"
      ]
     },
     "metadata": {
      "needs_background": "light"
     },
     "output_type": "display_data"
    }
   ],
   "source": [
    "sns.histplot(data = data, x=\"Survived\")"
   ]
  },
  {
   "cell_type": "markdown",
   "id": "0d852b53",
   "metadata": {
    "papermill": {
     "duration": 0.012966,
     "end_time": "2022-09-07T13:25:46.738733",
     "exception": false,
     "start_time": "2022-09-07T13:25:46.725767",
     "status": "completed"
    },
    "tags": []
   },
   "source": [
    "#### **Visualization of relationships between target and variables**"
   ]
  },
  {
   "cell_type": "markdown",
   "id": "271f95d0",
   "metadata": {
    "papermill": {
     "duration": 0.01369,
     "end_time": "2022-09-07T13:25:46.766301",
     "exception": false,
     "start_time": "2022-09-07T13:25:46.752611",
     "status": "completed"
    },
    "tags": []
   },
   "source": [
    "##### **Quantitative target variables**"
   ]
  },
  {
   "cell_type": "code",
   "execution_count": 13,
   "id": "7e5b887a",
   "metadata": {
    "execution": {
     "iopub.execute_input": "2022-09-07T13:25:46.797915Z",
     "iopub.status.busy": "2022-09-07T13:25:46.797104Z",
     "iopub.status.idle": "2022-09-07T13:25:47.042564Z",
     "shell.execute_reply": "2022-09-07T13:25:47.041179Z"
    },
    "papermill": {
     "duration": 0.263199,
     "end_time": "2022-09-07T13:25:47.045494",
     "exception": false,
     "start_time": "2022-09-07T13:25:46.782295",
     "status": "completed"
    },
    "tags": []
   },
   "outputs": [
    {
     "data": {
      "text/plain": [
       "<AxesSubplot:xlabel='Survived', ylabel='Age'>"
      ]
     },
     "execution_count": 13,
     "metadata": {},
     "output_type": "execute_result"
    },
    {
     "data": {
      "image/png": "[encoded data removed]",
      "text/plain": [
       "<Figure size 432x288 with 1 Axes>"
      ]
     },
     "metadata": {
      "needs_background": "light"
     },
     "output_type": "display_data"
    }
   ],
   "source": [
    "sns.barplot(data = data, x=\"Survived\", y=\"Age\")"
   ]
  },
  {
   "cell_type": "code",
   "execution_count": 14,
   "id": "1ff8fece",
   "metadata": {
    "execution": {
     "iopub.execute_input": "2022-09-07T13:25:47.075683Z",
     "iopub.status.busy": "2022-09-07T13:25:47.074784Z",
     "iopub.status.idle": "2022-09-07T13:25:47.286268Z",
     "shell.execute_reply": "2022-09-07T13:25:47.284429Z"
    },
    "papermill": {
     "duration": 0.231578,
     "end_time": "2022-09-07T13:25:47.290038",
     "exception": false,
     "start_time": "2022-09-07T13:25:47.058460",
     "status": "completed"
    },
    "tags": []
   },
   "outputs": [
    {
     "data": {
      "text/plain": [
       "<AxesSubplot:xlabel='Survived', ylabel='Age'>"
      ]
     },
     "execution_count": 14,
     "metadata": {},
     "output_type": "execute_result"
    },
    {
     "data": {
      "image/png": "[encoded data removed]",
      "text/plain": [
       "<Figure size 432x288 with 1 Axes>"
      ]
     },
     "metadata": {
      "needs_background": "light"
     },
     "output_type": "display_data"
    }
   ],
   "source": [
    "sns.boxplot(data = data, y=\"Age\", x=\"Survived\")"
   ]
  },
  {
   "cell_type": "code",
   "execution_count": 15,
   "id": "701b532c",
   "metadata": {
    "execution": {
     "iopub.execute_input": "2022-09-07T13:25:47.321909Z",
     "iopub.status.busy": "2022-09-07T13:25:47.321455Z",
     "iopub.status.idle": "2022-09-07T13:25:47.556009Z",
     "shell.execute_reply": "2022-09-07T13:25:47.554352Z"
    },
    "papermill": {
     "duration": 0.253749,
     "end_time": "2022-09-07T13:25:47.559030",
     "exception": false,
     "start_time": "2022-09-07T13:25:47.305281",
     "status": "completed"
    },
    "tags": []
   },
   "outputs": [
    {
     "data": {
      "text/plain": [
       "<AxesSubplot:xlabel='Survived', ylabel='Fare'>"
      ]
     },
     "execution_count": 15,
     "metadata": {},
     "output_type": "execute_result"
    },
    {
     "data": {
      "image/png": "[encoded data removed]",
      "text/plain": [
       "<Figure size 432x288 with 1 Axes>"
      ]
     },
     "metadata": {
      "needs_background": "light"
     },
     "output_type": "display_data"
    }
   ],
   "source": [
    "sns.barplot(data = data, x=\"Survived\", y=\"Fare\")"
   ]
  },
  {
   "cell_type": "code",
   "execution_count": 16,
   "id": "4e316aef",
   "metadata": {
    "execution": {
     "iopub.execute_input": "2022-09-07T13:25:47.592213Z",
     "iopub.status.busy": "2022-09-07T13:25:47.590794Z",
     "iopub.status.idle": "2022-09-07T13:25:47.754276Z",
     "shell.execute_reply": "2022-09-07T13:25:47.752369Z"
    },
    "papermill": {
     "duration": 0.183408,
     "end_time": "2022-09-07T13:25:47.757421",
     "exception": false,
     "start_time": "2022-09-07T13:25:47.574013",
     "status": "completed"
    },
    "tags": []
   },
   "outputs": [
    {
     "data": {
      "text/plain": [
       "<AxesSubplot:xlabel='Survived', ylabel='Fare'>"
      ]
     },
     "execution_count": 16,
     "metadata": {},
     "output_type": "execute_result"
    },
    {
     "data": {
      "image/png": "[encoded data removed]",
      "text/plain": [
       "<Figure size 432x288 with 1 Axes>"
      ]
     },
     "metadata": {
      "needs_background": "light"
     },
     "output_type": "display_data"
    }
   ],
   "source": [
    "sns.boxplot(data = data, y=\"Fare\", x=\"Survived\")"
   ]
  },
  {
   "cell_type": "markdown",
   "id": "6e533a03",
   "metadata": {
    "papermill": {
     "duration": 0.013429,
     "end_time": "2022-09-07T13:25:47.786625",
     "exception": false,
     "start_time": "2022-09-07T13:25:47.773196",
     "status": "completed"
    },
    "tags": []
   },
   "source": [
    "**INTERPRETATION**:\n",
    "* **Survived** and **Age**: the average age of survivors and non-survivors is almost the same, we see a lot of outliers in both cases. Which we will verify by a Student test.\n",
    "* **Survived** and **Fare**: the average ticket price of people who survived is higher than the average of people who did not survive, i.e. people who bought tickets at lower prices high survived more than those who bought tickets at a lower cost, we observe a lot of outliers in both cases. Which we will check by a Student test."
   ]
  },
  {
   "cell_type": "markdown",
   "id": "ad271c3f",
   "metadata": {
    "papermill": {
     "duration": 0.01422,
     "end_time": "2022-09-07T13:25:47.815584",
     "exception": false,
     "start_time": "2022-09-07T13:25:47.801364",
     "status": "completed"
    },
    "tags": []
   },
   "source": [
    "##### **Target variable and qualitative variables**"
   ]
  },
  {
   "cell_type": "code",
   "execution_count": 17,
   "id": "663fc9b9",
   "metadata": {
    "execution": {
     "iopub.execute_input": "2022-09-07T13:25:47.846985Z",
     "iopub.status.busy": "2022-09-07T13:25:47.846539Z",
     "iopub.status.idle": "2022-09-07T13:25:47.938798Z",
     "shell.execute_reply": "2022-09-07T13:25:47.936568Z"
    },
    "papermill": {
     "duration": 0.111528,
     "end_time": "2022-09-07T13:25:47.941739",
     "exception": false,
     "start_time": "2022-09-07T13:25:47.830211",
     "status": "completed"
    },
    "tags": []
   },
   "outputs": [
    {
     "name": "stdout",
     "output_type": "stream",
     "text": [
      "Pclass      1   2    3\n",
      "Survived              \n",
      "0          80  97  372\n",
      "1         136  87  119\n",
      "Sex       female  male\n",
      "Survived              \n",
      "0             81   468\n",
      "1            233   109\n",
      "SibSp       0    1   2   3   4  5  8\n",
      "Survived                            \n",
      "0         398   97  15  12  15  5  7\n",
      "1         210  112  13   4   3  0  0\n",
      "Parch       0   1   2  3  4  5  6\n",
      "Survived                         \n",
      "0         445  53  40  2  4  4  1\n",
      "1         233  65  40  3  0  1  0\n",
      "Embarked   C   Q    S\n",
      "Survived             \n",
      "0         75  47  427\n",
      "1         93  30  217\n"
     ]
    }
   ],
   "source": [
    "quali = [col for col in data.select_dtypes(\"object\")]\n",
    "for i in quali:\n",
    "    if i==\"Survived\" :\n",
    "        pass\n",
    "    else:\n",
    "        print(pd.crosstab(data[\"Survived\"], data[i]))\n",
    "           "
   ]
  },
  {
   "cell_type": "code",
   "execution_count": 18,
   "id": "5ebde0b4",
   "metadata": {
    "execution": {
     "iopub.execute_input": "2022-09-07T13:25:47.975071Z",
     "iopub.status.busy": "2022-09-07T13:25:47.974600Z",
     "iopub.status.idle": "2022-09-07T13:25:47.982502Z",
     "shell.execute_reply": "2022-09-07T13:25:47.981137Z"
    },
    "papermill": {
     "duration": 0.027442,
     "end_time": "2022-09-07T13:25:47.985410",
     "exception": false,
     "start_time": "2022-09-07T13:25:47.957968",
     "status": "completed"
    },
    "tags": []
   },
   "outputs": [
    {
     "data": {
      "text/plain": [
       "0.44642857142857145"
      ]
     },
     "execution_count": 18,
     "metadata": {},
     "output_type": "execute_result"
    }
   ],
   "source": [
    "75/(93+75)"
   ]
  },
  {
   "cell_type": "code",
   "execution_count": 19,
   "id": "a7ae2d26",
   "metadata": {
    "execution": {
     "iopub.execute_input": "2022-09-07T13:25:48.018809Z",
     "iopub.status.busy": "2022-09-07T13:25:48.017786Z",
     "iopub.status.idle": "2022-09-07T13:25:49.280519Z",
     "shell.execute_reply": "2022-09-07T13:25:49.279218Z"
    },
    "papermill": {
     "duration": 1.282983,
     "end_time": "2022-09-07T13:25:49.283118",
     "exception": false,
     "start_time": "2022-09-07T13:25:48.000135",
     "status": "completed"
    },
    "tags": []
   },
   "outputs": [
    {
     "data": {
      "image/png": "[encoded data removed]",
      "text/plain": [
       "<Figure size 432x288 with 2 Axes>"
      ]
     },
     "metadata": {
      "needs_background": "light"
     },
     "output_type": "display_data"
    },
    {
     "data": {
      "image/png": "[encoded data removed]",
      "text/plain": [
       "<Figure size 432x288 with 2 Axes>"
      ]
     },
     "metadata": {
      "needs_background": "light"
     },
     "output_type": "display_data"
    },
    {
     "data": {
      "image/png": "[encoded data removed]",
      "text/plain": [
       "<Figure size 432x288 with 2 Axes>"
      ]
     },
     "metadata": {
      "needs_background": "light"
     },
     "output_type": "display_data"
    },
    {
     "data": {
      "image/png": "[encoded data removed]",
      "text/plain": [
       "<Figure size 432x288 with 2 Axes>"
      ]
     },
     "metadata": {
      "needs_background": "light"
     },
     "output_type": "display_data"
    },
    {
     "data": {
      "image/png": "[encoded data removed]",
      "text/plain": [
       "<Figure size 432x288 with 2 Axes>"
      ]
     },
     "metadata": {
      "needs_background": "light"
     },
     "output_type": "display_data"
    }
   ],
   "source": [
    "for i in quali:\n",
    "    if i==\"Survived\":\n",
    "        pass\n",
    "    else:\n",
    "        plt.figure()\n",
    "        sns.heatmap(pd.crosstab(data[\"Survived\"], data[i]), annot = True)"
   ]
  },
  {
   "cell_type": "markdown",
   "id": "1be8551f",
   "metadata": {
    "papermill": {
     "duration": 0.015615,
     "end_time": "2022-09-07T13:25:49.314822",
     "exception": false,
     "start_time": "2022-09-07T13:25:49.299207",
     "status": "completed"
    },
    "tags": []
   },
   "source": [
    "__Interpretation__:\n",
    "1. Women were much more likely to survive compared to men\n",
    "1. People without parents on board the titanic had a high chance of dying\n",
    "1. Individuals of the 1st class were more likely to survive than individuals of the 3rd class and those of the second class.\n",
    "1. The more individuals with many relatives on board the more likely the person was to die"
   ]
  },
  {
   "cell_type": "code",
   "execution_count": 20,
   "id": "90c15f9f",
   "metadata": {
    "execution": {
     "iopub.execute_input": "2022-09-07T13:25:49.346844Z",
     "iopub.status.busy": "2022-09-07T13:25:49.346468Z",
     "iopub.status.idle": "2022-09-07T13:25:49.363568Z",
     "shell.execute_reply": "2022-09-07T13:25:49.362194Z"
    },
    "papermill": {
     "duration": 0.036614,
     "end_time": "2022-09-07T13:25:49.366580",
     "exception": false,
     "start_time": "2022-09-07T13:25:49.329966",
     "status": "completed"
    },
    "tags": []
   },
   "outputs": [
    {
     "data": {
      "text/html": [
       "<div>\n",
       "<style scoped>\n",
       "    .dataframe tbody tr th:only-of-type {\n",
       "        vertical-align: middle;\n",
       "    }\n",
       "\n",
       "    .dataframe tbody tr th {\n",
       "        vertical-align: top;\n",
       "    }\n",
       "\n",
       "    .dataframe thead th {\n",
       "        text-align: right;\n",
       "    }\n",
       "</style>\n",
       "<table border=\"1\" class=\"dataframe\">\n",
       "  <thead>\n",
       "    <tr style=\"text-align: right;\">\n",
       "      <th></th>\n",
       "      <th>Survived</th>\n",
       "      <th>Pclass</th>\n",
       "      <th>Sex</th>\n",
       "      <th>Age</th>\n",
       "      <th>SibSp</th>\n",
       "      <th>Parch</th>\n",
       "      <th>Fare</th>\n",
       "      <th>Embarked</th>\n",
       "    </tr>\n",
       "    <tr>\n",
       "      <th>PassengerId</th>\n",
       "      <th></th>\n",
       "      <th></th>\n",
       "      <th></th>\n",
       "      <th></th>\n",
       "      <th></th>\n",
       "      <th></th>\n",
       "      <th></th>\n",
       "      <th></th>\n",
       "    </tr>\n",
       "  </thead>\n",
       "  <tbody>\n",
       "    <tr>\n",
       "      <th>1</th>\n",
       "      <td>0</td>\n",
       "      <td>3</td>\n",
       "      <td>male</td>\n",
       "      <td>22.0</td>\n",
       "      <td>1</td>\n",
       "      <td>0</td>\n",
       "      <td>7.2500</td>\n",
       "      <td>S</td>\n",
       "    </tr>\n",
       "    <tr>\n",
       "      <th>2</th>\n",
       "      <td>1</td>\n",
       "      <td>1</td>\n",
       "      <td>female</td>\n",
       "      <td>38.0</td>\n",
       "      <td>1</td>\n",
       "      <td>0</td>\n",
       "      <td>71.2833</td>\n",
       "      <td>C</td>\n",
       "    </tr>\n",
       "    <tr>\n",
       "      <th>3</th>\n",
       "      <td>1</td>\n",
       "      <td>3</td>\n",
       "      <td>female</td>\n",
       "      <td>26.0</td>\n",
       "      <td>0</td>\n",
       "      <td>0</td>\n",
       "      <td>7.9250</td>\n",
       "      <td>S</td>\n",
       "    </tr>\n",
       "    <tr>\n",
       "      <th>4</th>\n",
       "      <td>1</td>\n",
       "      <td>1</td>\n",
       "      <td>female</td>\n",
       "      <td>35.0</td>\n",
       "      <td>1</td>\n",
       "      <td>0</td>\n",
       "      <td>53.1000</td>\n",
       "      <td>S</td>\n",
       "    </tr>\n",
       "    <tr>\n",
       "      <th>5</th>\n",
       "      <td>0</td>\n",
       "      <td>3</td>\n",
       "      <td>male</td>\n",
       "      <td>35.0</td>\n",
       "      <td>0</td>\n",
       "      <td>0</td>\n",
       "      <td>8.0500</td>\n",
       "      <td>S</td>\n",
       "    </tr>\n",
       "  </tbody>\n",
       "</table>\n",
       "</div>"
      ],
      "text/plain": [
       "            Survived Pclass     Sex   Age SibSp Parch     Fare Embarked\n",
       "PassengerId                                                            \n",
       "1                  0      3    male  22.0     1     0   7.2500        S\n",
       "2                  1      1  female  38.0     1     0  71.2833        C\n",
       "3                  1      3  female  26.0     0     0   7.9250        S\n",
       "4                  1      1  female  35.0     1     0  53.1000        S\n",
       "5                  0      3    male  35.0     0     0   8.0500        S"
      ]
     },
     "execution_count": 20,
     "metadata": {},
     "output_type": "execute_result"
    }
   ],
   "source": [
    "data.head()"
   ]
  },
  {
   "cell_type": "markdown",
   "id": "ac6ad54c",
   "metadata": {
    "papermill": {
     "duration": 0.015355,
     "end_time": "2022-09-07T13:25:49.398059",
     "exception": false,
     "start_time": "2022-09-07T13:25:49.382704",
     "status": "completed"
    },
    "tags": []
   },
   "source": [
    "## **Database Cleanup**"
   ]
  },
  {
   "cell_type": "markdown",
   "id": "e930dd5a",
   "metadata": {
    "papermill": {
     "duration": 0.014946,
     "end_time": "2022-09-07T13:25:49.429810",
     "exception": false,
     "start_time": "2022-09-07T13:25:49.414864",
     "status": "completed"
    },
    "tags": []
   },
   "source": [
    "**Function to encode the variable Sex** if the value of the value of the variable sex is *male* then we assign 0, and if the value is *female* then we assign 1 to the new value of the variable ** Sex** ."
   ]
  },
  {
   "cell_type": "code",
   "execution_count": 21,
   "id": "441c1c87",
   "metadata": {
    "execution": {
     "iopub.execute_input": "2022-09-07T13:25:49.463826Z",
     "iopub.status.busy": "2022-09-07T13:25:49.463418Z",
     "iopub.status.idle": "2022-09-07T13:25:49.469419Z",
     "shell.execute_reply": "2022-09-07T13:25:49.468118Z"
    },
    "papermill": {
     "duration": 0.026756,
     "end_time": "2022-09-07T13:25:49.472097",
     "exception": false,
     "start_time": "2022-09-07T13:25:49.445341",
     "status": "completed"
    },
    "tags": []
   },
   "outputs": [],
   "source": [
    "def encodageSex(df):\n",
    "    if df[\"Sex\"] == 'male':\n",
    "        df[\"Sex\"] = 0\n",
    "        return df\n",
    "    else:\n",
    "        df[\"Sex\"] = 1\n",
    "        return df"
   ]
  },
  {
   "cell_type": "markdown",
   "id": "f5e4954b",
   "metadata": {
    "papermill": {
     "duration": 0.018207,
     "end_time": "2022-09-07T13:25:49.507675",
     "exception": false,
     "start_time": "2022-09-07T13:25:49.489468",
     "status": "completed"
    },
    "tags": []
   },
   "source": [
    "We apply the function on the Sex variable thanks to the **apply** function"
   ]
  },
  {
   "cell_type": "code",
   "execution_count": 22,
   "id": "448e23a5",
   "metadata": {
    "execution": {
     "iopub.execute_input": "2022-09-07T13:25:49.541423Z",
     "iopub.status.busy": "2022-09-07T13:25:49.540960Z",
     "iopub.status.idle": "2022-09-07T13:25:49.623828Z",
     "shell.execute_reply": "2022-09-07T13:25:49.622700Z"
    },
    "papermill": {
     "duration": 0.10361,
     "end_time": "2022-09-07T13:25:49.626749",
     "exception": false,
     "start_time": "2022-09-07T13:25:49.523139",
     "status": "completed"
    },
    "tags": []
   },
   "outputs": [],
   "source": [
    "data = data.apply(encodageSex, axis=\"columns\")"
   ]
  },
  {
   "cell_type": "markdown",
   "id": "c28fb334",
   "metadata": {
    "papermill": {
     "duration": 0.015865,
     "end_time": "2022-09-07T13:25:49.657885",
     "exception": false,
     "start_time": "2022-09-07T13:25:49.642020",
     "status": "completed"
    },
    "tags": []
   },
   "source": [
    "We do the same on the variable **Embarked**"
   ]
  },
  {
   "cell_type": "code",
   "execution_count": 23,
   "id": "5e27c835",
   "metadata": {
    "execution": {
     "iopub.execute_input": "2022-09-07T13:25:49.691341Z",
     "iopub.status.busy": "2022-09-07T13:25:49.690615Z",
     "iopub.status.idle": "2022-09-07T13:25:49.696321Z",
     "shell.execute_reply": "2022-09-07T13:25:49.695341Z"
    },
    "papermill": {
     "duration": 0.025619,
     "end_time": "2022-09-07T13:25:49.698980",
     "exception": false,
     "start_time": "2022-09-07T13:25:49.673361",
     "status": "completed"
    },
    "tags": []
   },
   "outputs": [],
   "source": [
    "def encodageEmbarked(df):\n",
    "    if df[\"Embarked\"] == 'Q':\n",
    "        df[\"Embarked\"] = 0\n",
    "        return df\n",
    "    elif df[\"Embarked\"] == 'C':\n",
    "        df[\"Embarked\"] = 1\n",
    "        return df \n",
    "    else:\n",
    "        df[\"Embarked\"] = 2\n",
    "        return df"
   ]
  },
  {
   "cell_type": "code",
   "execution_count": 24,
   "id": "668c50aa",
   "metadata": {
    "execution": {
     "iopub.execute_input": "2022-09-07T13:25:49.733051Z",
     "iopub.status.busy": "2022-09-07T13:25:49.732349Z",
     "iopub.status.idle": "2022-09-07T13:25:49.956192Z",
     "shell.execute_reply": "2022-09-07T13:25:49.955181Z"
    },
    "papermill": {
     "duration": 0.243464,
     "end_time": "2022-09-07T13:25:49.958756",
     "exception": false,
     "start_time": "2022-09-07T13:25:49.715292",
     "status": "completed"
    },
    "tags": []
   },
   "outputs": [],
   "source": [
    "data = data.apply(encodageEmbarked, axis=\"columns\")"
   ]
  },
  {
   "cell_type": "markdown",
   "id": "d23187cf",
   "metadata": {
    "papermill": {
     "duration": 0.016159,
     "end_time": "2022-09-07T13:25:49.991050",
     "exception": false,
     "start_time": "2022-09-07T13:25:49.974891",
     "status": "completed"
    },
    "tags": []
   },
   "source": [
    "**We convert our variables to float types to have greater precision for training the model**"
   ]
  },
  {
   "cell_type": "code",
   "execution_count": 25,
   "id": "317e209a",
   "metadata": {
    "execution": {
     "iopub.execute_input": "2022-09-07T13:25:50.025825Z",
     "iopub.status.busy": "2022-09-07T13:25:50.025142Z",
     "iopub.status.idle": "2022-09-07T13:25:50.034098Z",
     "shell.execute_reply": "2022-09-07T13:25:50.032348Z"
    },
    "papermill": {
     "duration": 0.029716,
     "end_time": "2022-09-07T13:25:50.037019",
     "exception": false,
     "start_time": "2022-09-07T13:25:50.007303",
     "status": "completed"
    },
    "tags": []
   },
   "outputs": [],
   "source": [
    "for col in data.columns:\n",
    "    data[col] = data[col].astype(\"float\")"
   ]
  },
  {
   "cell_type": "code",
   "execution_count": 26,
   "id": "11e36ab6",
   "metadata": {
    "execution": {
     "iopub.execute_input": "2022-09-07T13:25:50.070884Z",
     "iopub.status.busy": "2022-09-07T13:25:50.070053Z",
     "iopub.status.idle": "2022-09-07T13:25:50.076545Z",
     "shell.execute_reply": "2022-09-07T13:25:50.075408Z"
    },
    "papermill": {
     "duration": 0.025814,
     "end_time": "2022-09-07T13:25:50.079197",
     "exception": false,
     "start_time": "2022-09-07T13:25:50.053383",
     "status": "completed"
    },
    "tags": []
   },
   "outputs": [],
   "source": [
    "data[\"Age\"] = data[\"Age\"].fillna(data[\"Age\"].mean())"
   ]
  },
  {
   "cell_type": "markdown",
   "id": "389f2420",
   "metadata": {
    "papermill": {
     "duration": 0.015066,
     "end_time": "2022-09-07T13:25:50.109805",
     "exception": false,
     "start_time": "2022-09-07T13:25:50.094739",
     "status": "completed"
    },
    "tags": []
   },
   "source": [
    "We export the database in csv format to train the model."
   ]
  },
  {
   "cell_type": "code",
   "execution_count": 27,
   "id": "47f3f517",
   "metadata": {
    "execution": {
     "iopub.execute_input": "2022-09-07T13:25:50.143597Z",
     "iopub.status.busy": "2022-09-07T13:25:50.142793Z",
     "iopub.status.idle": "2022-09-07T13:25:50.156752Z",
     "shell.execute_reply": "2022-09-07T13:25:50.155491Z"
    },
    "papermill": {
     "duration": 0.033909,
     "end_time": "2022-09-07T13:25:50.159273",
     "exception": false,
     "start_time": "2022-09-07T13:25:50.125364",
     "status": "completed"
    },
    "tags": []
   },
   "outputs": [],
   "source": [
    "data.to_csv(\"data_train.csv\")"
   ]
  },
  {
   "cell_type": "markdown",
   "id": "26f408f2",
   "metadata": {
    "papermill": {
     "duration": 0.016046,
     "end_time": "2022-09-07T13:25:50.191016",
     "exception": false,
     "start_time": "2022-09-07T13:25:50.174970",
     "status": "completed"
    },
    "tags": []
   },
   "source": [
    "### **Conclusion**\n",
    "Here ends our descriptive analysis of the titanic database, because it is a very important step for the prediction.\n",
    "Now for the prediction."
   ]
  },
  {
   "cell_type": "markdown",
   "id": "e459249e",
   "metadata": {
    "papermill": {
     "duration": 0.017092,
     "end_time": "2022-09-07T13:25:50.224139",
     "exception": false,
     "start_time": "2022-09-07T13:25:50.207047",
     "status": "completed"
    },
    "tags": []
   },
   "source": [
    "## **PREDICTION** "
   ]
  },
  {
   "cell_type": "code",
   "execution_count": 28,
   "id": "66164271",
   "metadata": {
    "execution": {
     "iopub.execute_input": "2022-09-07T13:25:50.258614Z",
     "iopub.status.busy": "2022-09-07T13:25:50.258160Z",
     "iopub.status.idle": "2022-09-07T13:25:50.664098Z",
     "shell.execute_reply": "2022-09-07T13:25:50.662913Z"
    },
    "papermill": {
     "duration": 0.425818,
     "end_time": "2022-09-07T13:25:50.666849",
     "exception": false,
     "start_time": "2022-09-07T13:25:50.241031",
     "status": "completed"
    },
    "tags": []
   },
   "outputs": [],
   "source": [
    "from sklearn.model_selection import train_test_split , cross_val_score\n",
    "from sklearn.preprocessing import MinMaxScaler, StandardScaler\n",
    "from sklearn.neighbors import KNeighborsClassifier\n",
    "from sklearn.linear_model import LogisticRegression\n",
    "from sklearn.neighbors import KNeighborsClassifier\n",
    "from sklearn.metrics import mean_absolute_error\n",
    "from sklearn.ensemble import GradientBoostingClassifier\n",
    "from sklearn.model_selection import cross_val_score\n",
    "y = data[\"Survived\"]\n",
    "X = data.drop(\"Survived\", axis =1)\n"
   ]
  },
  {
   "cell_type": "code",
   "execution_count": 29,
   "id": "8e140ce5",
   "metadata": {
    "execution": {
     "iopub.execute_input": "2022-09-07T13:25:50.700372Z",
     "iopub.status.busy": "2022-09-07T13:25:50.699938Z",
     "iopub.status.idle": "2022-09-07T13:25:55.415688Z",
     "shell.execute_reply": "2022-09-07T13:25:55.414107Z"
    },
    "papermill": {
     "duration": 4.736406,
     "end_time": "2022-09-07T13:25:55.419327",
     "exception": false,
     "start_time": "2022-09-07T13:25:50.682921",
     "status": "completed"
    },
    "tags": []
   },
   "outputs": [
    {
     "name": "stdout",
     "output_type": "stream",
     "text": [
      "0.8660714285714286 0.034740362363005095\n"
     ]
    }
   ],
   "source": [
    "grd = GradientBoostingClassifier(n_estimators=550)\n",
    "scores_grd = cross_val_score(grd, X, y, cv = 8)\n",
    "print(scores_grd.max(), scores_grd.std())"
   ]
  },
  {
   "cell_type": "markdown",
   "id": "6f1ee7f6",
   "metadata": {
    "papermill": {
     "duration": 0.019544,
     "end_time": "2022-09-07T13:25:55.458049",
     "exception": false,
     "start_time": "2022-09-07T13:25:55.438505",
     "status": "completed"
    },
    "tags": []
   },
   "source": [
    "congratulations, we have 87%.\n",
    "we have reached the end of the tutorial.\n",
    "If you liked don't need to let it know and if you have an understanding let me know too"
   ]
  },
  {
   "cell_type": "markdown",
   "id": "270fa69b",
   "metadata": {
    "papermill": {
     "duration": 0.015666,
     "end_time": "2022-09-07T13:25:55.492076",
     "exception": false,
     "start_time": "2022-09-07T13:25:55.476410",
     "status": "completed"
    },
    "tags": []
   },
   "source": [
    "# **By Boris MBOBE . SEE YOU NEXT TIME**"
   ]
  }
 ],
 "metadata": {
  "kernelspec": {
   "display_name": "Python 3",
   "language": "python",
   "name": "python3"
  },
  "language_info": {
   "codemirror_mode": {
    "name": "ipython",
    "version": 3
   },
   "file_extension": ".py",
   "mimetype": "text/x-python",
   "name": "python",
   "nbconvert_exporter": "python",
   "pygments_lexer": "ipython3",
   "version": "3.7.12"
  },
  "papermill": {
   "default_parameters": {},
   "duration": 22.47178,
   "end_time": "2022-09-07T13:25:56.433395",
   "environment_variables": {},
   "exception": null,
   "input_path": "__notebook__.ipynb",
   "output_path": "__notebook__.ipynb",
   "parameters": {},
   "start_time": "2022-09-07T13:25:33.961615",
   "version": "2.3.4"
  }
 },
 "nbformat": 4,
 "nbformat_minor": 5
}
