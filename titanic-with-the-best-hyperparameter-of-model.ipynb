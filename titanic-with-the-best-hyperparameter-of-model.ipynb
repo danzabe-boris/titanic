{
 "cells": [
  {
   "cell_type": "code",
   "execution_count": 1,
   "id": "69919ff7",
   "metadata": {
    "execution": {
     "iopub.execute_input": "2022-08-20T21:07:00.792552Z",
     "iopub.status.busy": "2022-08-20T21:07:00.791944Z",
     "iopub.status.idle": "2022-08-20T21:07:02.218358Z",
     "shell.execute_reply": "2022-08-20T21:07:02.217141Z"
    },
    "papermill": {
     "duration": 1.438191,
     "end_time": "2022-08-20T21:07:02.221626",
     "exception": false,
     "start_time": "2022-08-20T21:07:00.783435",
     "status": "completed"
    },
    "tags": []
   },
   "outputs": [],
   "source": [
    "import numpy as np\n",
    "import pandas as pd\n",
    "from sklearn.model_selection import GridSearchCV\n",
    "from sklearn.pipeline import Pipeline\n",
    "from sklearn.compose import ColumnTransformer\n",
    "from sklearn.impute import SimpleImputer\n",
    "from sklearn.preprocessing import OneHotEncoder\n",
    "from sklearn.ensemble import GradientBoostingClassifier"
   ]
  },
  {
   "cell_type": "code",
   "execution_count": 2,
   "id": "e4ab94f1",
   "metadata": {
    "execution": {
     "iopub.execute_input": "2022-08-20T21:07:02.234312Z",
     "iopub.status.busy": "2022-08-20T21:07:02.233894Z",
     "iopub.status.idle": "2022-08-20T21:07:02.264714Z",
     "shell.execute_reply": "2022-08-20T21:07:02.263738Z"
    },
    "papermill": {
     "duration": 0.039942,
     "end_time": "2022-08-20T21:07:02.267335",
     "exception": false,
     "start_time": "2022-08-20T21:07:02.227393",
     "status": "completed"
    },
    "tags": []
   },
   "outputs": [],
   "source": [
    "data_train = pd.read_csv(\"../input/titanic/train.csv\", index_col ='PassengerId')"
   ]
  },
  {
   "cell_type": "code",
   "execution_count": 3,
   "id": "2ae46c74",
   "metadata": {
    "execution": {
     "iopub.execute_input": "2022-08-20T21:07:02.279458Z",
     "iopub.status.busy": "2022-08-20T21:07:02.279023Z",
     "iopub.status.idle": "2022-08-20T21:07:02.294895Z",
     "shell.execute_reply": "2022-08-20T21:07:02.293570Z"
    },
    "papermill": {
     "duration": 0.02506,
     "end_time": "2022-08-20T21:07:02.297648",
     "exception": false,
     "start_time": "2022-08-20T21:07:02.272588",
     "status": "completed"
    },
    "tags": []
   },
   "outputs": [
    {
     "data": {
      "text/plain": [
       "Survived     0.000000\n",
       "Pclass       0.000000\n",
       "Name         0.000000\n",
       "Sex          0.000000\n",
       "Age         19.865320\n",
       "SibSp        0.000000\n",
       "Parch        0.000000\n",
       "Ticket       0.000000\n",
       "Fare         0.000000\n",
       "Cabin       77.104377\n",
       "Embarked     0.224467\n",
       "dtype: float64"
      ]
     },
     "execution_count": 3,
     "metadata": {},
     "output_type": "execute_result"
    }
   ],
   "source": [
    "(data_train.isnull().sum()*100)/data_train.shape[0]"
   ]
  },
  {
   "cell_type": "code",
   "execution_count": 4,
   "id": "d33ac5b3",
   "metadata": {
    "execution": {
     "iopub.execute_input": "2022-08-20T21:07:02.309988Z",
     "iopub.status.busy": "2022-08-20T21:07:02.309565Z",
     "iopub.status.idle": "2022-08-20T21:07:02.317787Z",
     "shell.execute_reply": "2022-08-20T21:07:02.316584Z"
    },
    "papermill": {
     "duration": 0.016916,
     "end_time": "2022-08-20T21:07:02.319976",
     "exception": false,
     "start_time": "2022-08-20T21:07:02.303060",
     "status": "completed"
    },
    "tags": []
   },
   "outputs": [],
   "source": [
    "data_train = data_train.drop([\"Name\", \"Ticket\", \"Cabin\"], axis=1)"
   ]
  },
  {
   "cell_type": "code",
   "execution_count": 5,
   "id": "6b0ad329",
   "metadata": {
    "execution": {
     "iopub.execute_input": "2022-08-20T21:07:02.332189Z",
     "iopub.status.busy": "2022-08-20T21:07:02.331766Z",
     "iopub.status.idle": "2022-08-20T21:07:02.340337Z",
     "shell.execute_reply": "2022-08-20T21:07:02.339130Z"
    },
    "papermill": {
     "duration": 0.017329,
     "end_time": "2022-08-20T21:07:02.342602",
     "exception": false,
     "start_time": "2022-08-20T21:07:02.325273",
     "status": "completed"
    },
    "tags": []
   },
   "outputs": [],
   "source": [
    "X = data_train.drop(\"Survived\", axis=1)\n",
    "y = data_train[\"Survived\"]"
   ]
  },
  {
   "cell_type": "code",
   "execution_count": 6,
   "id": "597df1ae",
   "metadata": {
    "execution": {
     "iopub.execute_input": "2022-08-20T21:07:02.355495Z",
     "iopub.status.busy": "2022-08-20T21:07:02.354637Z",
     "iopub.status.idle": "2022-08-20T21:07:02.363731Z",
     "shell.execute_reply": "2022-08-20T21:07:02.362877Z"
    },
    "papermill": {
     "duration": 0.018324,
     "end_time": "2022-08-20T21:07:02.366231",
     "exception": false,
     "start_time": "2022-08-20T21:07:02.347907",
     "status": "completed"
    },
    "tags": []
   },
   "outputs": [],
   "source": [
    "numerical = [col for col in X.select_dtypes(exclude='object')]\n",
    "categorial = [col for col in X.select_dtypes(include='object')]"
   ]
  },
  {
   "cell_type": "code",
   "execution_count": 7,
   "id": "f235c965",
   "metadata": {
    "execution": {
     "iopub.execute_input": "2022-08-20T21:07:02.378733Z",
     "iopub.status.busy": "2022-08-20T21:07:02.377940Z",
     "iopub.status.idle": "2022-08-20T21:07:02.383292Z",
     "shell.execute_reply": "2022-08-20T21:07:02.382369Z"
    },
    "papermill": {
     "duration": 0.01427,
     "end_time": "2022-08-20T21:07:02.385676",
     "exception": false,
     "start_time": "2022-08-20T21:07:02.371406",
     "status": "completed"
    },
    "tags": []
   },
   "outputs": [],
   "source": [
    "numerical_pipeline = Pipeline(steps=[\n",
    "                    ('impute', SimpleImputer(strategy='constant'))\n",
    "])"
   ]
  },
  {
   "cell_type": "code",
   "execution_count": 8,
   "id": "a9fba66d",
   "metadata": {
    "execution": {
     "iopub.execute_input": "2022-08-20T21:07:02.397983Z",
     "iopub.status.busy": "2022-08-20T21:07:02.397318Z",
     "iopub.status.idle": "2022-08-20T21:07:02.403063Z",
     "shell.execute_reply": "2022-08-20T21:07:02.402169Z"
    },
    "papermill": {
     "duration": 0.014525,
     "end_time": "2022-08-20T21:07:02.405433",
     "exception": false,
     "start_time": "2022-08-20T21:07:02.390908",
     "status": "completed"
    },
    "tags": []
   },
   "outputs": [],
   "source": [
    "categorial_pipeline = Pipeline(steps = [\n",
    "                                (\"impute_cat\", SimpleImputer(strategy=\"most_frequent\")),\n",
    "                                (\"encode\",OneHotEncoder(handle_unknown='ignore') )\n",
    "])"
   ]
  },
  {
   "cell_type": "code",
   "execution_count": 9,
   "id": "854426a2",
   "metadata": {
    "execution": {
     "iopub.execute_input": "2022-08-20T21:07:02.417985Z",
     "iopub.status.busy": "2022-08-20T21:07:02.417549Z",
     "iopub.status.idle": "2022-08-20T21:07:02.423258Z",
     "shell.execute_reply": "2022-08-20T21:07:02.422248Z"
    },
    "papermill": {
     "duration": 0.015036,
     "end_time": "2022-08-20T21:07:02.425729",
     "exception": false,
     "start_time": "2022-08-20T21:07:02.410693",
     "status": "completed"
    },
    "tags": []
   },
   "outputs": [],
   "source": [
    "preprocessing = ColumnTransformer(transformers=[\n",
    "                            (\"num\", numerical_pipeline, numerical),\n",
    "                            (\"cat\", categorial_pipeline, categorial)\n",
    "])"
   ]
  },
  {
   "cell_type": "code",
   "execution_count": 10,
   "id": "5d83bc37",
   "metadata": {
    "execution": {
     "iopub.execute_input": "2022-08-20T21:07:02.438355Z",
     "iopub.status.busy": "2022-08-20T21:07:02.437563Z",
     "iopub.status.idle": "2022-08-20T21:07:02.443093Z",
     "shell.execute_reply": "2022-08-20T21:07:02.442225Z"
    },
    "papermill": {
     "duration": 0.01448,
     "end_time": "2022-08-20T21:07:02.445444",
     "exception": false,
     "start_time": "2022-08-20T21:07:02.430964",
     "status": "completed"
    },
    "tags": []
   },
   "outputs": [],
   "source": [
    "model_2 = GradientBoostingClassifier() \n",
    "pipeline_2 = Pipeline(steps = [\n",
    "                            (\"preprocessing\", preprocessing),\n",
    "                            (\"model\",model_2)\n",
    "])"
   ]
  },
  {
   "cell_type": "code",
   "execution_count": 11,
   "id": "a096caf6",
   "metadata": {
    "execution": {
     "iopub.execute_input": "2022-08-20T21:07:02.457755Z",
     "iopub.status.busy": "2022-08-20T21:07:02.457114Z",
     "iopub.status.idle": "2022-08-20T21:07:02.462187Z",
     "shell.execute_reply": "2022-08-20T21:07:02.461223Z"
    },
    "papermill": {
     "duration": 0.013915,
     "end_time": "2022-08-20T21:07:02.464509",
     "exception": false,
     "start_time": "2022-08-20T21:07:02.450594",
     "status": "completed"
    },
    "tags": []
   },
   "outputs": [],
   "source": [
    "param = {\n",
    "        'model__n_estimators': np.arange(50, 1000, 100)\n",
    "}"
   ]
  },
  {
   "cell_type": "code",
   "execution_count": 12,
   "id": "978d5cfa",
   "metadata": {
    "execution": {
     "iopub.execute_input": "2022-08-20T21:07:02.477364Z",
     "iopub.status.busy": "2022-08-20T21:07:02.476648Z",
     "iopub.status.idle": "2022-08-20T21:07:02.481920Z",
     "shell.execute_reply": "2022-08-20T21:07:02.481023Z"
    },
    "papermill": {
     "duration": 0.014333,
     "end_time": "2022-08-20T21:07:02.484218",
     "exception": false,
     "start_time": "2022-08-20T21:07:02.469885",
     "status": "completed"
    },
    "tags": []
   },
   "outputs": [],
   "source": [
    "grid = GridSearchCV(pipeline_2, param_grid = param, cv=5)"
   ]
  },
  {
   "cell_type": "code",
   "execution_count": 13,
   "id": "74ef718c",
   "metadata": {
    "execution": {
     "iopub.execute_input": "2022-08-20T21:07:02.496621Z",
     "iopub.status.busy": "2022-08-20T21:07:02.495973Z",
     "iopub.status.idle": "2022-08-20T21:07:31.850146Z",
     "shell.execute_reply": "2022-08-20T21:07:31.848867Z"
    },
    "papermill": {
     "duration": 29.363363,
     "end_time": "2022-08-20T21:07:31.852776",
     "exception": false,
     "start_time": "2022-08-20T21:07:02.489413",
     "status": "completed"
    },
    "tags": []
   },
   "outputs": [
    {
     "data": {
      "text/plain": [
       "GridSearchCV(cv=5,\n",
       "             estimator=Pipeline(steps=[('preprocessing',\n",
       "                                        ColumnTransformer(transformers=[('num',\n",
       "                                                                         Pipeline(steps=[('impute',\n",
       "                                                                                          SimpleImputer(strategy='constant'))]),\n",
       "                                                                         ['Pclass',\n",
       "                                                                          'Age',\n",
       "                                                                          'SibSp',\n",
       "                                                                          'Parch',\n",
       "                                                                          'Fare']),\n",
       "                                                                        ('cat',\n",
       "                                                                         Pipeline(steps=[('impute_cat',\n",
       "                                                                                          SimpleImputer(strategy='most_frequent')),\n",
       "                                                                                         ('encode',\n",
       "                                                                                          OneHotEncoder(handle_unknown='ignore'))]),\n",
       "                                                                         ['Sex',\n",
       "                                                                          'Embarked'])])),\n",
       "                                       ('model',\n",
       "                                        GradientBoostingClassifier())]),\n",
       "             param_grid={'model__n_estimators': array([ 50, 150, 250, 350, 450, 550, 650, 750, 850, 950])})"
      ]
     },
     "execution_count": 13,
     "metadata": {},
     "output_type": "execute_result"
    }
   ],
   "source": [
    "grid.fit(X, y)"
   ]
  },
  {
   "cell_type": "code",
   "execution_count": 14,
   "id": "2d387f72",
   "metadata": {
    "execution": {
     "iopub.execute_input": "2022-08-20T21:07:31.865801Z",
     "iopub.status.busy": "2022-08-20T21:07:31.865367Z",
     "iopub.status.idle": "2022-08-20T21:07:31.874825Z",
     "shell.execute_reply": "2022-08-20T21:07:31.873574Z"
    },
    "papermill": {
     "duration": 0.018934,
     "end_time": "2022-08-20T21:07:31.877445",
     "exception": false,
     "start_time": "2022-08-20T21:07:31.858511",
     "status": "completed"
    },
    "tags": []
   },
   "outputs": [
    {
     "data": {
      "text/plain": [
       "0.8305442219571905"
      ]
     },
     "execution_count": 14,
     "metadata": {},
     "output_type": "execute_result"
    }
   ],
   "source": [
    "grid.best_score_"
   ]
  },
  {
   "cell_type": "code",
   "execution_count": 15,
   "id": "8a018885",
   "metadata": {
    "execution": {
     "iopub.execute_input": "2022-08-20T21:07:31.890190Z",
     "iopub.status.busy": "2022-08-20T21:07:31.889801Z",
     "iopub.status.idle": "2022-08-20T21:07:31.921013Z",
     "shell.execute_reply": "2022-08-20T21:07:31.919867Z"
    },
    "papermill": {
     "duration": 0.040514,
     "end_time": "2022-08-20T21:07:31.923480",
     "exception": false,
     "start_time": "2022-08-20T21:07:31.882966",
     "status": "completed"
    },
    "tags": []
   },
   "outputs": [
    {
     "data": {
      "text/plain": [
       "Pipeline(steps=[('preprocessing',\n",
       "                 ColumnTransformer(transformers=[('num',\n",
       "                                                  Pipeline(steps=[('impute',\n",
       "                                                                   SimpleImputer(strategy='constant'))]),\n",
       "                                                  ['Pclass', 'Age', 'SibSp',\n",
       "                                                   'Parch', 'Fare']),\n",
       "                                                 ('cat',\n",
       "                                                  Pipeline(steps=[('impute_cat',\n",
       "                                                                   SimpleImputer(strategy='most_frequent')),\n",
       "                                                                  ('encode',\n",
       "                                                                   OneHotEncoder(handle_unknown='ignore'))]),\n",
       "                                                  ['Sex', 'Embarked'])])),\n",
       "                ('model', GradientBoostingClassifier(n_estimators=450))])"
      ]
     },
     "execution_count": 15,
     "metadata": {},
     "output_type": "execute_result"
    }
   ],
   "source": [
    "grid.best_estimator_"
   ]
  },
  {
   "cell_type": "code",
   "execution_count": 16,
   "id": "d18acbb8",
   "metadata": {
    "execution": {
     "iopub.execute_input": "2022-08-20T21:07:31.936561Z",
     "iopub.status.busy": "2022-08-20T21:07:31.936149Z",
     "iopub.status.idle": "2022-08-20T21:07:31.952253Z",
     "shell.execute_reply": "2022-08-20T21:07:31.951187Z"
    },
    "papermill": {
     "duration": 0.02577,
     "end_time": "2022-08-20T21:07:31.954954",
     "exception": false,
     "start_time": "2022-08-20T21:07:31.929184",
     "status": "completed"
    },
    "tags": []
   },
   "outputs": [],
   "source": [
    "data_test = pd.read_csv(\"../input/titanic/test.csv\", index_col =\"PassengerId\")"
   ]
  },
  {
   "cell_type": "code",
   "execution_count": 17,
   "id": "582259ba",
   "metadata": {
    "execution": {
     "iopub.execute_input": "2022-08-20T21:07:31.969060Z",
     "iopub.status.busy": "2022-08-20T21:07:31.968378Z",
     "iopub.status.idle": "2022-08-20T21:07:31.984753Z",
     "shell.execute_reply": "2022-08-20T21:07:31.983861Z"
    },
    "papermill": {
     "duration": 0.026761,
     "end_time": "2022-08-20T21:07:31.987386",
     "exception": false,
     "start_time": "2022-08-20T21:07:31.960625",
     "status": "completed"
    },
    "tags": []
   },
   "outputs": [],
   "source": [
    "Survived = grid.predict(data_test)"
   ]
  },
  {
   "cell_type": "code",
   "execution_count": 18,
   "id": "c7e18819",
   "metadata": {
    "execution": {
     "iopub.execute_input": "2022-08-20T21:07:32.000170Z",
     "iopub.status.busy": "2022-08-20T21:07:31.999799Z",
     "iopub.status.idle": "2022-08-20T21:07:32.005867Z",
     "shell.execute_reply": "2022-08-20T21:07:32.004611Z"
    },
    "papermill": {
     "duration": 0.015327,
     "end_time": "2022-08-20T21:07:32.008279",
     "exception": false,
     "start_time": "2022-08-20T21:07:31.992952",
     "status": "completed"
    },
    "tags": []
   },
   "outputs": [],
   "source": [
    "data = pd.DataFrame({\"PassengerId\":data_test.index, \"Survived\": Survived}) "
   ]
  },
  {
   "cell_type": "code",
   "execution_count": 19,
   "id": "23aa3025",
   "metadata": {
    "execution": {
     "iopub.execute_input": "2022-08-20T21:07:32.021558Z",
     "iopub.status.busy": "2022-08-20T21:07:32.021148Z",
     "iopub.status.idle": "2022-08-20T21:07:32.028808Z",
     "shell.execute_reply": "2022-08-20T21:07:32.027936Z"
    },
    "papermill": {
     "duration": 0.017303,
     "end_time": "2022-08-20T21:07:32.031259",
     "exception": false,
     "start_time": "2022-08-20T21:07:32.013956",
     "status": "completed"
    },
    "tags": []
   },
   "outputs": [],
   "source": [
    "data.to_csv(\"submission.csv\", index = False)"
   ]
  }
 ],
 "metadata": {
  "kernelspec": {
   "display_name": "Python 3",
   "language": "python",
   "name": "python3"
  },
  "language_info": {
   "codemirror_mode": {
    "name": "ipython",
    "version": 3
   },
   "file_extension": ".py",
   "mimetype": "text/x-python",
   "name": "python",
   "nbconvert_exporter": "python",
   "pygments_lexer": "ipython3",
   "version": "3.7.12"
  },
  "papermill": {
   "default_parameters": {},
   "duration": 41.210171,
   "end_time": "2022-08-20T21:07:32.759313",
   "environment_variables": {},
   "exception": null,
   "input_path": "__notebook__.ipynb",
   "output_path": "__notebook__.ipynb",
   "parameters": {},
   "start_time": "2022-08-20T21:06:51.549142",
   "version": "2.3.4"
  }
 },
 "nbformat": 4,
 "nbformat_minor": 5
}
